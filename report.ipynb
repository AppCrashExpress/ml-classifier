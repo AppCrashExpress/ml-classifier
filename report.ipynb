{
 "cells": [
  {
   "cell_type": "markdown",
   "id": "7d9238b9",
   "metadata": {},
   "source": [
    "# Лабораторная 2: Классификатор\n",
    "\n",
    "> Разработка простых классификаторов: _K-ближайших соседей_ и _наивный байесовский классификатор_."
   ]
  },
  {
   "cell_type": "markdown",
   "id": "9354aafb",
   "metadata": {},
   "source": [
    "Используемые библиотеки (включая собственные классификаторы):"
   ]
  },
  {
   "cell_type": "code",
   "execution_count": 1,
   "id": "9bb896bc",
   "metadata": {},
   "outputs": [],
   "source": [
    "import numpy   as np\n",
    "import pandas  as pd\n",
    "import seaborn as sns\n",
    "import matplotlib.pyplot as plt\n",
    "\n",
    "from sklearn.naive_bayes     import MultinomialNB\n",
    "from sklearn.neighbors       import KNeighborsClassifier\n",
    "from sklearn.model_selection import train_test_split\n",
    "from sklearn.preprocessing   import OneHotEncoder\n",
    "\n",
    "from scipy.stats import chi2_contingency\n",
    "\n",
    "import classifiers.knn\n",
    "import classifiers.bayes\n",
    "\n",
    "data_folder = \"data/\" # Папка хранения данных"
   ]
  },
  {
   "cell_type": "markdown",
   "id": "40a16709",
   "metadata": {},
   "source": [
    "Далее лабораторная будет разделена на две части для каждого классификатора соответственно."
   ]
  },
  {
   "cell_type": "markdown",
   "id": "e480600b",
   "metadata": {},
   "source": [
    "## Метод _K-ближайших соседей_"
   ]
  },
  {
   "cell_type": "markdown",
   "id": "2eb20168",
   "metadata": {},
   "source": [
    "Метод _K-ближайших соседей_ описывает данные на основе их близости к `K` другим соседям. \n",
    "Так как высчитывается расстояние, проще всего работать с данными, особенности у которых - численные.\n",
    "Существует множество разных методов для высчитывания расстояния (вплоть до косинусного коэффициента),\n",
    "но для численных особенностей достаточно расстояние Евклида."
   ]
  },
  {
   "cell_type": "markdown",
   "id": "c53d512a",
   "metadata": {},
   "source": [
    "### Рассмотр данных"
   ]
  },
  {
   "cell_type": "markdown",
   "id": "e594e784",
   "metadata": {},
   "source": [
    "Для начала необходимо рассмотреть данные, с которsми будет проведена работа. \n",
    "[Характеристика красных вин и их оценка](https://www.kaggle.com/uciml/red-wine-quality-cortez-et-al-2009)\n",
    "является хорошим кандидатом, ввиду того, что все особенности там численные."
   ]
  },
  {
   "cell_type": "code",
   "execution_count": 2,
   "id": "76372f5b",
   "metadata": {},
   "outputs": [
    {
     "data": {
      "text/html": [
       "<div>\n",
       "<style scoped>\n",
       "    .dataframe tbody tr th:only-of-type {\n",
       "        vertical-align: middle;\n",
       "    }\n",
       "\n",
       "    .dataframe tbody tr th {\n",
       "        vertical-align: top;\n",
       "    }\n",
       "\n",
       "    .dataframe thead th {\n",
       "        text-align: right;\n",
       "    }\n",
       "</style>\n",
       "<table border=\"1\" class=\"dataframe\">\n",
       "  <thead>\n",
       "    <tr style=\"text-align: right;\">\n",
       "      <th></th>\n",
       "      <th>fixed acidity</th>\n",
       "      <th>volatile acidity</th>\n",
       "      <th>citric acid</th>\n",
       "      <th>residual sugar</th>\n",
       "      <th>chlorides</th>\n",
       "      <th>free sulfur dioxide</th>\n",
       "      <th>total sulfur dioxide</th>\n",
       "      <th>density</th>\n",
       "      <th>pH</th>\n",
       "      <th>sulphates</th>\n",
       "      <th>alcohol</th>\n",
       "      <th>quality</th>\n",
       "    </tr>\n",
       "  </thead>\n",
       "  <tbody>\n",
       "    <tr>\n",
       "      <th>0</th>\n",
       "      <td>7.4</td>\n",
       "      <td>0.700</td>\n",
       "      <td>0.00</td>\n",
       "      <td>1.9</td>\n",
       "      <td>0.076</td>\n",
       "      <td>11.0</td>\n",
       "      <td>34.0</td>\n",
       "      <td>0.99780</td>\n",
       "      <td>3.51</td>\n",
       "      <td>0.56</td>\n",
       "      <td>9.4</td>\n",
       "      <td>5</td>\n",
       "    </tr>\n",
       "    <tr>\n",
       "      <th>1</th>\n",
       "      <td>7.8</td>\n",
       "      <td>0.880</td>\n",
       "      <td>0.00</td>\n",
       "      <td>2.6</td>\n",
       "      <td>0.098</td>\n",
       "      <td>25.0</td>\n",
       "      <td>67.0</td>\n",
       "      <td>0.99680</td>\n",
       "      <td>3.20</td>\n",
       "      <td>0.68</td>\n",
       "      <td>9.8</td>\n",
       "      <td>5</td>\n",
       "    </tr>\n",
       "    <tr>\n",
       "      <th>2</th>\n",
       "      <td>7.8</td>\n",
       "      <td>0.760</td>\n",
       "      <td>0.04</td>\n",
       "      <td>2.3</td>\n",
       "      <td>0.092</td>\n",
       "      <td>15.0</td>\n",
       "      <td>54.0</td>\n",
       "      <td>0.99700</td>\n",
       "      <td>3.26</td>\n",
       "      <td>0.65</td>\n",
       "      <td>9.8</td>\n",
       "      <td>5</td>\n",
       "    </tr>\n",
       "    <tr>\n",
       "      <th>3</th>\n",
       "      <td>11.2</td>\n",
       "      <td>0.280</td>\n",
       "      <td>0.56</td>\n",
       "      <td>1.9</td>\n",
       "      <td>0.075</td>\n",
       "      <td>17.0</td>\n",
       "      <td>60.0</td>\n",
       "      <td>0.99800</td>\n",
       "      <td>3.16</td>\n",
       "      <td>0.58</td>\n",
       "      <td>9.8</td>\n",
       "      <td>6</td>\n",
       "    </tr>\n",
       "    <tr>\n",
       "      <th>4</th>\n",
       "      <td>7.4</td>\n",
       "      <td>0.700</td>\n",
       "      <td>0.00</td>\n",
       "      <td>1.9</td>\n",
       "      <td>0.076</td>\n",
       "      <td>11.0</td>\n",
       "      <td>34.0</td>\n",
       "      <td>0.99780</td>\n",
       "      <td>3.51</td>\n",
       "      <td>0.56</td>\n",
       "      <td>9.4</td>\n",
       "      <td>5</td>\n",
       "    </tr>\n",
       "    <tr>\n",
       "      <th>...</th>\n",
       "      <td>...</td>\n",
       "      <td>...</td>\n",
       "      <td>...</td>\n",
       "      <td>...</td>\n",
       "      <td>...</td>\n",
       "      <td>...</td>\n",
       "      <td>...</td>\n",
       "      <td>...</td>\n",
       "      <td>...</td>\n",
       "      <td>...</td>\n",
       "      <td>...</td>\n",
       "      <td>...</td>\n",
       "    </tr>\n",
       "    <tr>\n",
       "      <th>1594</th>\n",
       "      <td>6.2</td>\n",
       "      <td>0.600</td>\n",
       "      <td>0.08</td>\n",
       "      <td>2.0</td>\n",
       "      <td>0.090</td>\n",
       "      <td>32.0</td>\n",
       "      <td>44.0</td>\n",
       "      <td>0.99490</td>\n",
       "      <td>3.45</td>\n",
       "      <td>0.58</td>\n",
       "      <td>10.5</td>\n",
       "      <td>5</td>\n",
       "    </tr>\n",
       "    <tr>\n",
       "      <th>1595</th>\n",
       "      <td>5.9</td>\n",
       "      <td>0.550</td>\n",
       "      <td>0.10</td>\n",
       "      <td>2.2</td>\n",
       "      <td>0.062</td>\n",
       "      <td>39.0</td>\n",
       "      <td>51.0</td>\n",
       "      <td>0.99512</td>\n",
       "      <td>3.52</td>\n",
       "      <td>0.76</td>\n",
       "      <td>11.2</td>\n",
       "      <td>6</td>\n",
       "    </tr>\n",
       "    <tr>\n",
       "      <th>1596</th>\n",
       "      <td>6.3</td>\n",
       "      <td>0.510</td>\n",
       "      <td>0.13</td>\n",
       "      <td>2.3</td>\n",
       "      <td>0.076</td>\n",
       "      <td>29.0</td>\n",
       "      <td>40.0</td>\n",
       "      <td>0.99574</td>\n",
       "      <td>3.42</td>\n",
       "      <td>0.75</td>\n",
       "      <td>11.0</td>\n",
       "      <td>6</td>\n",
       "    </tr>\n",
       "    <tr>\n",
       "      <th>1597</th>\n",
       "      <td>5.9</td>\n",
       "      <td>0.645</td>\n",
       "      <td>0.12</td>\n",
       "      <td>2.0</td>\n",
       "      <td>0.075</td>\n",
       "      <td>32.0</td>\n",
       "      <td>44.0</td>\n",
       "      <td>0.99547</td>\n",
       "      <td>3.57</td>\n",
       "      <td>0.71</td>\n",
       "      <td>10.2</td>\n",
       "      <td>5</td>\n",
       "    </tr>\n",
       "    <tr>\n",
       "      <th>1598</th>\n",
       "      <td>6.0</td>\n",
       "      <td>0.310</td>\n",
       "      <td>0.47</td>\n",
       "      <td>3.6</td>\n",
       "      <td>0.067</td>\n",
       "      <td>18.0</td>\n",
       "      <td>42.0</td>\n",
       "      <td>0.99549</td>\n",
       "      <td>3.39</td>\n",
       "      <td>0.66</td>\n",
       "      <td>11.0</td>\n",
       "      <td>6</td>\n",
       "    </tr>\n",
       "  </tbody>\n",
       "</table>\n",
       "<p>1599 rows × 12 columns</p>\n",
       "</div>"
      ],
      "text/plain": [
       "      fixed acidity  volatile acidity  citric acid  residual sugar  chlorides  \\\n",
       "0               7.4             0.700         0.00             1.9      0.076   \n",
       "1               7.8             0.880         0.00             2.6      0.098   \n",
       "2               7.8             0.760         0.04             2.3      0.092   \n",
       "3              11.2             0.280         0.56             1.9      0.075   \n",
       "4               7.4             0.700         0.00             1.9      0.076   \n",
       "...             ...               ...          ...             ...        ...   \n",
       "1594            6.2             0.600         0.08             2.0      0.090   \n",
       "1595            5.9             0.550         0.10             2.2      0.062   \n",
       "1596            6.3             0.510         0.13             2.3      0.076   \n",
       "1597            5.9             0.645         0.12             2.0      0.075   \n",
       "1598            6.0             0.310         0.47             3.6      0.067   \n",
       "\n",
       "      free sulfur dioxide  total sulfur dioxide  density    pH  sulphates  \\\n",
       "0                    11.0                  34.0  0.99780  3.51       0.56   \n",
       "1                    25.0                  67.0  0.99680  3.20       0.68   \n",
       "2                    15.0                  54.0  0.99700  3.26       0.65   \n",
       "3                    17.0                  60.0  0.99800  3.16       0.58   \n",
       "4                    11.0                  34.0  0.99780  3.51       0.56   \n",
       "...                   ...                   ...      ...   ...        ...   \n",
       "1594                 32.0                  44.0  0.99490  3.45       0.58   \n",
       "1595                 39.0                  51.0  0.99512  3.52       0.76   \n",
       "1596                 29.0                  40.0  0.99574  3.42       0.75   \n",
       "1597                 32.0                  44.0  0.99547  3.57       0.71   \n",
       "1598                 18.0                  42.0  0.99549  3.39       0.66   \n",
       "\n",
       "      alcohol  quality  \n",
       "0         9.4        5  \n",
       "1         9.8        5  \n",
       "2         9.8        5  \n",
       "3         9.8        6  \n",
       "4         9.4        5  \n",
       "...       ...      ...  \n",
       "1594     10.5        5  \n",
       "1595     11.2        6  \n",
       "1596     11.0        6  \n",
       "1597     10.2        5  \n",
       "1598     11.0        6  \n",
       "\n",
       "[1599 rows x 12 columns]"
      ]
     },
     "execution_count": 2,
     "metadata": {},
     "output_type": "execute_result"
    }
   ],
   "source": [
    "wines = pd.read_csv(data_folder + \"winequality-red.csv\")\n",
    "wines"
   ]
  },
  {
   "cell_type": "markdown",
   "id": "3509c219",
   "metadata": {},
   "source": [
    "Датасет предоставлен для обучения машины, способной создать идеальные химические пропорции для \n",
    "получения вина высшего качества, но в данном случае ее можно использовать для предсказания оценки\n",
    "на основе известных данных (используя KNN)."
   ]
  },
  {
   "cell_type": "markdown",
   "id": "93382429",
   "metadata": {},
   "source": [
    "Для начала проверим данные на наличие пустых ячеек и выбросов \n",
    "(хотя учитывая алгоритм, они не будут иметь сильного влияния):"
   ]
  },
  {
   "cell_type": "code",
   "execution_count": 3,
   "id": "83326440",
   "metadata": {},
   "outputs": [
    {
     "data": {
      "text/plain": [
       "fixed acidity           0\n",
       "volatile acidity        0\n",
       "citric acid             0\n",
       "residual sugar          0\n",
       "chlorides               0\n",
       "free sulfur dioxide     0\n",
       "total sulfur dioxide    0\n",
       "density                 0\n",
       "pH                      0\n",
       "sulphates               0\n",
       "alcohol                 0\n",
       "quality                 0\n",
       "dtype: int64"
      ]
     },
     "execution_count": 3,
     "metadata": {},
     "output_type": "execute_result"
    }
   ],
   "source": [
    "wines.isnull().sum()"
   ]
  },
  {
   "cell_type": "code",
   "execution_count": 4,
   "id": "a49f9326",
   "metadata": {},
   "outputs": [
    {
     "data": {
      "text/html": [
       "<div>\n",
       "<style scoped>\n",
       "    .dataframe tbody tr th:only-of-type {\n",
       "        vertical-align: middle;\n",
       "    }\n",
       "\n",
       "    .dataframe tbody tr th {\n",
       "        vertical-align: top;\n",
       "    }\n",
       "\n",
       "    .dataframe thead th {\n",
       "        text-align: right;\n",
       "    }\n",
       "</style>\n",
       "<table border=\"1\" class=\"dataframe\">\n",
       "  <thead>\n",
       "    <tr style=\"text-align: right;\">\n",
       "      <th></th>\n",
       "      <th>fixed acidity</th>\n",
       "      <th>volatile acidity</th>\n",
       "      <th>citric acid</th>\n",
       "      <th>residual sugar</th>\n",
       "      <th>chlorides</th>\n",
       "      <th>free sulfur dioxide</th>\n",
       "      <th>total sulfur dioxide</th>\n",
       "      <th>density</th>\n",
       "      <th>pH</th>\n",
       "      <th>sulphates</th>\n",
       "      <th>alcohol</th>\n",
       "      <th>quality</th>\n",
       "    </tr>\n",
       "  </thead>\n",
       "  <tbody>\n",
       "    <tr>\n",
       "      <th>min</th>\n",
       "      <td>4.6</td>\n",
       "      <td>0.12</td>\n",
       "      <td>0.0</td>\n",
       "      <td>0.9</td>\n",
       "      <td>0.012</td>\n",
       "      <td>1.0</td>\n",
       "      <td>6.0</td>\n",
       "      <td>0.99007</td>\n",
       "      <td>2.74</td>\n",
       "      <td>0.33</td>\n",
       "      <td>8.4</td>\n",
       "      <td>3</td>\n",
       "    </tr>\n",
       "    <tr>\n",
       "      <th>max</th>\n",
       "      <td>15.9</td>\n",
       "      <td>1.58</td>\n",
       "      <td>1.0</td>\n",
       "      <td>15.5</td>\n",
       "      <td>0.611</td>\n",
       "      <td>72.0</td>\n",
       "      <td>289.0</td>\n",
       "      <td>1.00369</td>\n",
       "      <td>4.01</td>\n",
       "      <td>2.00</td>\n",
       "      <td>14.9</td>\n",
       "      <td>8</td>\n",
       "    </tr>\n",
       "  </tbody>\n",
       "</table>\n",
       "</div>"
      ],
      "text/plain": [
       "     fixed acidity  volatile acidity  citric acid  residual sugar  chlorides  \\\n",
       "min            4.6              0.12          0.0             0.9      0.012   \n",
       "max           15.9              1.58          1.0            15.5      0.611   \n",
       "\n",
       "     free sulfur dioxide  total sulfur dioxide  density    pH  sulphates  \\\n",
       "min                  1.0                   6.0  0.99007  2.74       0.33   \n",
       "max                 72.0                 289.0  1.00369  4.01       2.00   \n",
       "\n",
       "     alcohol  quality  \n",
       "min      8.4        3  \n",
       "max     14.9        8  "
      ]
     },
     "execution_count": 4,
     "metadata": {},
     "output_type": "execute_result"
    }
   ],
   "source": [
    "wines.agg(['min', 'max'])"
   ]
  },
  {
   "cell_type": "markdown",
   "id": "2bfffd94",
   "metadata": {},
   "source": [
    "В таблице нет ни одной пустой ячейки, и все данные расположены достаточно рядом за исключением \"total sulfur dioxide\". Рассмотрев её подробнее:"
   ]
  },
  {
   "cell_type": "code",
   "execution_count": 5,
   "id": "621c52d4",
   "metadata": {},
   "outputs": [
    {
     "data": {
      "text/html": [
       "<div>\n",
       "<style scoped>\n",
       "    .dataframe tbody tr th:only-of-type {\n",
       "        vertical-align: middle;\n",
       "    }\n",
       "\n",
       "    .dataframe tbody tr th {\n",
       "        vertical-align: top;\n",
       "    }\n",
       "\n",
       "    .dataframe thead th {\n",
       "        text-align: right;\n",
       "    }\n",
       "</style>\n",
       "<table border=\"1\" class=\"dataframe\">\n",
       "  <thead>\n",
       "    <tr style=\"text-align: right;\">\n",
       "      <th></th>\n",
       "      <th>fixed acidity</th>\n",
       "      <th>volatile acidity</th>\n",
       "      <th>citric acid</th>\n",
       "      <th>residual sugar</th>\n",
       "      <th>chlorides</th>\n",
       "      <th>free sulfur dioxide</th>\n",
       "      <th>total sulfur dioxide</th>\n",
       "      <th>density</th>\n",
       "      <th>pH</th>\n",
       "      <th>sulphates</th>\n",
       "      <th>alcohol</th>\n",
       "      <th>quality</th>\n",
       "    </tr>\n",
       "  </thead>\n",
       "  <tbody>\n",
       "    <tr>\n",
       "      <th>1079</th>\n",
       "      <td>7.9</td>\n",
       "      <td>0.3</td>\n",
       "      <td>0.68</td>\n",
       "      <td>8.3</td>\n",
       "      <td>0.05</td>\n",
       "      <td>37.5</td>\n",
       "      <td>278.0</td>\n",
       "      <td>0.99316</td>\n",
       "      <td>3.01</td>\n",
       "      <td>0.51</td>\n",
       "      <td>12.3</td>\n",
       "      <td>7</td>\n",
       "    </tr>\n",
       "    <tr>\n",
       "      <th>1081</th>\n",
       "      <td>7.9</td>\n",
       "      <td>0.3</td>\n",
       "      <td>0.68</td>\n",
       "      <td>8.3</td>\n",
       "      <td>0.05</td>\n",
       "      <td>37.5</td>\n",
       "      <td>289.0</td>\n",
       "      <td>0.99316</td>\n",
       "      <td>3.01</td>\n",
       "      <td>0.51</td>\n",
       "      <td>12.3</td>\n",
       "      <td>7</td>\n",
       "    </tr>\n",
       "  </tbody>\n",
       "</table>\n",
       "</div>"
      ],
      "text/plain": [
       "      fixed acidity  volatile acidity  citric acid  residual sugar  chlorides  \\\n",
       "1079            7.9               0.3         0.68             8.3       0.05   \n",
       "1081            7.9               0.3         0.68             8.3       0.05   \n",
       "\n",
       "      free sulfur dioxide  total sulfur dioxide  density    pH  sulphates  \\\n",
       "1079                 37.5                 278.0  0.99316  3.01       0.51   \n",
       "1081                 37.5                 289.0  0.99316  3.01       0.51   \n",
       "\n",
       "      alcohol  quality  \n",
       "1079     12.3        7  \n",
       "1081     12.3        7  "
      ]
     },
     "execution_count": 5,
     "metadata": {},
     "output_type": "execute_result"
    },
    {
     "data": {
      "image/png": "[encoded data removed]",
      "text/plain": [
       "<Figure size 432x288 with 1 Axes>"
      ]
     },
     "metadata": {
      "needs_background": "light"
     },
     "output_type": "display_data"
    }
   ],
   "source": [
    "wines[\"total sulfur dioxide\"].plot.hist()\n",
    "wines.loc[wines[\"total sulfur dioxide\"] > 200]"
   ]
  },
  {
   "cell_type": "markdown",
   "id": "df483763",
   "metadata": {},
   "source": [
    "Видно, что две строки зашли дальше остальных. Эти строки можно исключить, но, так как алгоритм работает \n",
    "на близости соседей, а не на распределении, их можно игнорировать."
   ]
  },
  {
   "cell_type": "markdown",
   "id": "146105b9",
   "metadata": {},
   "source": [
    "Рассмотрим корреляцию между особенностями и исключим те, которые имеют коэффициенты больше 0.5 (по модулю)"
   ]
  },
  {
   "cell_type": "code",
   "execution_count": 6,
   "id": "a2910b43",
   "metadata": {},
   "outputs": [
    {
     "data": {
      "text/plain": [
       "<AxesSubplot:>"
      ]
     },
     "execution_count": 6,
     "metadata": {},
     "output_type": "execute_result"
    },
    {
     "data": {
      "image/png": "[encoded data removed]",
      "text/plain": [
       "<Figure size 720x504 with 2 Axes>"
      ]
     },
     "metadata": {
      "needs_background": "light"
     },
     "output_type": "display_data"
    }
   ],
   "source": [
    "plt.subplots(figsize=(10, 7))\n",
    "wines_corr = wines.iloc[:, :-1].corr().abs()\n",
    "sns.heatmap(wines_corr, annot=True)"
   ]
  },
  {
   "cell_type": "markdown",
   "id": "a0496131",
   "metadata": {},
   "source": [
    "На графике видно, что пары `(0, 2), (0, 7), (0, 8), (1, 2), (2, 8) (5, 6), (7, 10)` имеют коэффициенты больше 0.5. Сама задача исключения особенности сводится к задаче исключения вершин на графе, имеющие наибольшее количество граней (если количество граней равны, то берем вершины с суммарной корреляцией, близкой к 0). Тогда исключаем особенности: `[\"fixed acidity\", \"citric acid\", \"total sulfur dioxide\", \"density\"]`."
   ]
  },
  {
   "cell_type": "code",
   "execution_count": 7,
   "id": "2d6b0aac",
   "metadata": {},
   "outputs": [],
   "source": [
    "wines = wines.drop(columns=[\"fixed acidity\", \"citric acid\", \"total sulfur dioxide\", \"density\"])"
   ]
  },
  {
   "cell_type": "markdown",
   "id": "c693b7f8",
   "metadata": {},
   "source": [
    "Для 1600 строк данных 6 классов возможно слишком много, поэтому их лучше сократить до двух - хороший (1) и плохой (0). Разбитие должно произойти так, чтобы их было максимально поровну:"
   ]
  },
  {
   "cell_type": "code",
   "execution_count": 8,
   "id": "85a7eb91",
   "metadata": {},
   "outputs": [
    {
     "data": {
      "text/plain": [
       "<AxesSubplot:ylabel='Frequency'>"
      ]
     },
     "execution_count": 8,
     "metadata": {},
     "output_type": "execute_result"
    },
    {
     "data": {
      "image/png": "[encoded data removed]",
      "text/plain": [
       "<Figure size 432x288 with 1 Axes>"
      ]
     },
     "metadata": {
      "needs_background": "light"
     },
     "output_type": "display_data"
    }
   ],
   "source": [
    "wines[\"quality\"].plot.hist()"
   ]
  },
  {
   "cell_type": "markdown",
   "id": "32b44382",
   "metadata": {},
   "source": [
    "Значит пусть все, что меньше 6 - плохо, больше и равно - хорошо:"
   ]
  },
  {
   "cell_type": "code",
   "execution_count": 9,
   "id": "418197ac",
   "metadata": {},
   "outputs": [
    {
     "data": {
      "text/plain": [
       "1    855\n",
       "0    744\n",
       "Name: quality, dtype: int64"
      ]
     },
     "execution_count": 9,
     "metadata": {},
     "output_type": "execute_result"
    }
   ],
   "source": [
    "wines[\"quality\"] = wines[\"quality\"].apply(lambda x : 1 if x >= 6 else 0)\n",
    "wines[\"quality\"].value_counts()"
   ]
  },
  {
   "cell_type": "markdown",
   "id": "c22d1082",
   "metadata": {},
   "source": [
    "Столбец классов и столбцы особенностей необходимо отделить друг от друга:"
   ]
  },
  {
   "cell_type": "code",
   "execution_count": 10,
   "id": "600febf1",
   "metadata": {},
   "outputs": [],
   "source": [
    "X, y = wines.iloc[:, :-1], wines.iloc[:, -1]"
   ]
  },
  {
   "cell_type": "markdown",
   "id": "ebc07964",
   "metadata": {},
   "source": [
    "### Использование классификатора"
   ]
  },
  {
   "cell_type": "markdown",
   "id": "f0c7f9f5",
   "metadata": {},
   "source": [
    "Так как у нас нет тестовых данных, придется разделить наши на две части: обучающие и тестовые - и преобразовать \n",
    "из таблицы в массивы"
   ]
  },
  {
   "cell_type": "code",
   "execution_count": 11,
   "id": "72f87299",
   "metadata": {},
   "outputs": [],
   "source": [
    "X_train, X_test, y_train, y_test = train_test_split(X.values, y.values, test_size=0.3)"
   ]
  },
  {
   "cell_type": "markdown",
   "id": "3a66d3e0",
   "metadata": {},
   "source": [
    "Отправим тренировочные данных в свой классификатор:"
   ]
  },
  {
   "cell_type": "code",
   "execution_count": 12,
   "id": "c1d64507",
   "metadata": {
    "scrolled": true
   },
   "outputs": [
    {
     "data": {
      "text/plain": [
       "<classifiers.knn.KNN at 0x7fe01bc64ac0>"
      ]
     },
     "execution_count": 12,
     "metadata": {},
     "output_type": "execute_result"
    }
   ],
   "source": [
    "knn_1 = classifiers.knn.KNN(5)\n",
    "knn_1.train(X_train, y_train)"
   ]
  },
  {
   "cell_type": "markdown",
   "id": "c5fe4215",
   "metadata": {},
   "source": [
    "Теперь можно попробовать классифицировать тренировочные данные:"
   ]
  },
  {
   "cell_type": "code",
   "execution_count": 13,
   "id": "535b4f83",
   "metadata": {},
   "outputs": [
    {
     "name": "stdout",
     "output_type": "stream",
     "text": [
      "CPU times: user 2.77 s, sys: 12 ms, total: 2.78 s\n",
      "Wall time: 2.77 s\n"
     ]
    }
   ],
   "source": [
    "%time y_predict = knn_1.predict(X_test)"
   ]
  },
  {
   "cell_type": "markdown",
   "id": "ed1b514d",
   "metadata": {},
   "source": [
    "Полученный результат можно сравнить с реальными классами:"
   ]
  },
  {
   "cell_type": "code",
   "execution_count": 14,
   "id": "e0e8c9ce",
   "metadata": {},
   "outputs": [
    {
     "data": {
      "text/plain": [
       "0.70625"
      ]
     },
     "execution_count": 14,
     "metadata": {},
     "output_type": "execute_result"
    }
   ],
   "source": [
    "comp = (y_predict == y_test)\n",
    "comp.sum() / comp.shape[0]"
   ]
  },
  {
   "cell_type": "markdown",
   "id": "7088db91",
   "metadata": {},
   "source": [
    "Три запуска показали процент точности, близкий к 70, _в зависимости от того, как данные были разделены_. \n",
    "Те же данные можно использовать и для классификатора библиотеки `sklearn`: "
   ]
  },
  {
   "cell_type": "code",
   "execution_count": 15,
   "id": "fbcf39a2",
   "metadata": {},
   "outputs": [
    {
     "name": "stdout",
     "output_type": "stream",
     "text": [
      "CPU times: user 16.2 ms, sys: 2.01 ms, total: 18.2 ms\n",
      "Wall time: 15.4 ms\n"
     ]
    },
    {
     "data": {
      "text/plain": [
       "0.70625"
      ]
     },
     "execution_count": 15,
     "metadata": {},
     "output_type": "execute_result"
    }
   ],
   "source": [
    "knn_2 = KNeighborsClassifier(5)\n",
    "knn_2.fit(X_train, y_train)\n",
    "%time y_predict = knn_2.predict(X_test)\n",
    "comp = (y_predict == y_test)\n",
    "comp.sum() / comp.shape[0]"
   ]
  },
  {
   "cell_type": "markdown",
   "id": "6a29dd6e",
   "metadata": {},
   "source": [
    "Который также показывает процент точности, близкий к 50, но имеет значительно большую скорость, так как\n",
    "он пользуется предварительной обработкой данных для ускорения подсчета расстояния (собственная реализация\n",
    "пользуется простой реализацией за квадратичное время)."
   ]
  },
  {
   "cell_type": "markdown",
   "id": "b90b25b6",
   "metadata": {},
   "source": [
    "## _Наивный байевский классификатор_"
   ]
  },
  {
   "cell_type": "markdown",
   "id": "5bfb38eb",
   "metadata": {},
   "source": [
    "Вся идея байевского классификатора лежит в формуле Теореме Байеса:\n",
    "$$\n",
    "    P(c | x_1, x_2, ...) = \\frac{P(c) P(x_1 | c) P(x_2 | c) ...}{P(x_1) P(x_2) ...}\n",
    "$$\n",
    "То есть вероятность класса $c$ в условиях особенностей $x_1, x_2, ...$ равна вероятности класса $c$ и \n",
    "вероятности особенностей $x_1, x_2, ...$ в условиях класса $c$, деленная на вероятность $x_1, x_2, ...$\n",
    "независимо от класса. Так как мы сравниваем вероятности, делитель можно опустить.\n",
    "\n",
    "В отличие от _K-ближайших соседей_, здесь не нужно вычислять расстояние и классификатор может принимать\n",
    "и численные, так и словесные особенности, но для численных значений следует использовать другие методы\n",
    "высчитывания вероятности, особенно если это значения с плавающей точкой"
   ]
  },
  {
   "cell_type": "markdown",
   "id": "f6b16b1b",
   "metadata": {},
   "source": [
    "### Рассмотр данных"
   ]
  },
  {
   "cell_type": "markdown",
   "id": "06bf2f89",
   "metadata": {},
   "source": [
    "[Следующие данные](http://archive.ics.uci.edu/ml/datasets/Car+Evaluation) \n",
    "имеют особенности:\n",
    "\n",
    "| Особенность | Возможные значения | Описание |\n",
    "|:-:| :- | :- | \n",
    "| `buying`   | `vhigh, high, med, low` | Цена покупки\n",
    "| `maint`    | `vhigh, high, med, low` | Стоимость обслуживания\n",
    "| `doors`    | `2, 3, 4, 5more`        | Количество дверей\n",
    "| `persons`  | `2, 4, more`            | Макс. количество пассажиров\n",
    "| `lug_boot` | `small, med, big`       | Размер багажника\n",
    "| `safety`   | `low, med, high`        | Оценочная безопасность\n",
    "\n",
    "Задача состоит в предсказании оценки / приемлемости машины `eval` "
   ]
  },
  {
   "cell_type": "code",
   "execution_count": 16,
   "id": "36d20c3d",
   "metadata": {},
   "outputs": [
    {
     "data": {
      "text/html": [
       "<div>\n",
       "<style scoped>\n",
       "    .dataframe tbody tr th:only-of-type {\n",
       "        vertical-align: middle;\n",
       "    }\n",
       "\n",
       "    .dataframe tbody tr th {\n",
       "        vertical-align: top;\n",
       "    }\n",
       "\n",
       "    .dataframe thead th {\n",
       "        text-align: right;\n",
       "    }\n",
       "</style>\n",
       "<table border=\"1\" class=\"dataframe\">\n",
       "  <thead>\n",
       "    <tr style=\"text-align: right;\">\n",
       "      <th></th>\n",
       "      <th>buying</th>\n",
       "      <th>maint</th>\n",
       "      <th>doors</th>\n",
       "      <th>persons</th>\n",
       "      <th>lug_boot</th>\n",
       "      <th>safety</th>\n",
       "      <th>eval</th>\n",
       "    </tr>\n",
       "  </thead>\n",
       "  <tbody>\n",
       "    <tr>\n",
       "      <th>0</th>\n",
       "      <td>vhigh</td>\n",
       "      <td>vhigh</td>\n",
       "      <td>2</td>\n",
       "      <td>2</td>\n",
       "      <td>small</td>\n",
       "      <td>low</td>\n",
       "      <td>unacc</td>\n",
       "    </tr>\n",
       "    <tr>\n",
       "      <th>1</th>\n",
       "      <td>vhigh</td>\n",
       "      <td>vhigh</td>\n",
       "      <td>2</td>\n",
       "      <td>2</td>\n",
       "      <td>small</td>\n",
       "      <td>med</td>\n",
       "      <td>unacc</td>\n",
       "    </tr>\n",
       "    <tr>\n",
       "      <th>2</th>\n",
       "      <td>vhigh</td>\n",
       "      <td>vhigh</td>\n",
       "      <td>2</td>\n",
       "      <td>2</td>\n",
       "      <td>small</td>\n",
       "      <td>high</td>\n",
       "      <td>unacc</td>\n",
       "    </tr>\n",
       "    <tr>\n",
       "      <th>3</th>\n",
       "      <td>vhigh</td>\n",
       "      <td>vhigh</td>\n",
       "      <td>2</td>\n",
       "      <td>2</td>\n",
       "      <td>med</td>\n",
       "      <td>low</td>\n",
       "      <td>unacc</td>\n",
       "    </tr>\n",
       "    <tr>\n",
       "      <th>4</th>\n",
       "      <td>vhigh</td>\n",
       "      <td>vhigh</td>\n",
       "      <td>2</td>\n",
       "      <td>2</td>\n",
       "      <td>med</td>\n",
       "      <td>med</td>\n",
       "      <td>unacc</td>\n",
       "    </tr>\n",
       "    <tr>\n",
       "      <th>...</th>\n",
       "      <td>...</td>\n",
       "      <td>...</td>\n",
       "      <td>...</td>\n",
       "      <td>...</td>\n",
       "      <td>...</td>\n",
       "      <td>...</td>\n",
       "      <td>...</td>\n",
       "    </tr>\n",
       "    <tr>\n",
       "      <th>1723</th>\n",
       "      <td>low</td>\n",
       "      <td>low</td>\n",
       "      <td>5more</td>\n",
       "      <td>more</td>\n",
       "      <td>med</td>\n",
       "      <td>med</td>\n",
       "      <td>good</td>\n",
       "    </tr>\n",
       "    <tr>\n",
       "      <th>1724</th>\n",
       "      <td>low</td>\n",
       "      <td>low</td>\n",
       "      <td>5more</td>\n",
       "      <td>more</td>\n",
       "      <td>med</td>\n",
       "      <td>high</td>\n",
       "      <td>vgood</td>\n",
       "    </tr>\n",
       "    <tr>\n",
       "      <th>1725</th>\n",
       "      <td>low</td>\n",
       "      <td>low</td>\n",
       "      <td>5more</td>\n",
       "      <td>more</td>\n",
       "      <td>big</td>\n",
       "      <td>low</td>\n",
       "      <td>unacc</td>\n",
       "    </tr>\n",
       "    <tr>\n",
       "      <th>1726</th>\n",
       "      <td>low</td>\n",
       "      <td>low</td>\n",
       "      <td>5more</td>\n",
       "      <td>more</td>\n",
       "      <td>big</td>\n",
       "      <td>med</td>\n",
       "      <td>good</td>\n",
       "    </tr>\n",
       "    <tr>\n",
       "      <th>1727</th>\n",
       "      <td>low</td>\n",
       "      <td>low</td>\n",
       "      <td>5more</td>\n",
       "      <td>more</td>\n",
       "      <td>big</td>\n",
       "      <td>high</td>\n",
       "      <td>vgood</td>\n",
       "    </tr>\n",
       "  </tbody>\n",
       "</table>\n",
       "<p>1728 rows × 7 columns</p>\n",
       "</div>"
      ],
      "text/plain": [
       "     buying  maint  doors persons lug_boot safety  eval \n",
       "0     vhigh  vhigh      2       2    small    low  unacc\n",
       "1     vhigh  vhigh      2       2    small    med  unacc\n",
       "2     vhigh  vhigh      2       2    small   high  unacc\n",
       "3     vhigh  vhigh      2       2      med    low  unacc\n",
       "4     vhigh  vhigh      2       2      med    med  unacc\n",
       "...     ...    ...    ...     ...      ...    ...    ...\n",
       "1723    low    low  5more    more      med    med   good\n",
       "1724    low    low  5more    more      med   high  vgood\n",
       "1725    low    low  5more    more      big    low  unacc\n",
       "1726    low    low  5more    more      big    med   good\n",
       "1727    low    low  5more    more      big   high  vgood\n",
       "\n",
       "[1728 rows x 7 columns]"
      ]
     },
     "execution_count": 16,
     "metadata": {},
     "output_type": "execute_result"
    }
   ],
   "source": [
    "cars = pd.read_csv(data_folder + \"cars/car.data\")\n",
    "cars"
   ]
  },
  {
   "cell_type": "markdown",
   "id": "61931f5f",
   "metadata": {},
   "source": [
    "Как всегда, нужно начинать с проверки на наличие пустых элементов таблицы:"
   ]
  },
  {
   "cell_type": "code",
   "execution_count": 17,
   "id": "bb3e4ac1",
   "metadata": {},
   "outputs": [
    {
     "data": {
      "text/plain": [
       "buying      0\n",
       "maint       0\n",
       "doors       0\n",
       "persons     0\n",
       "lug_boot    0\n",
       "safety      0\n",
       "eval        0\n",
       "dtype: int64"
      ]
     },
     "execution_count": 17,
     "metadata": {},
     "output_type": "execute_result"
    }
   ],
   "source": [
    "cars.isnull().sum()"
   ]
  },
  {
   "cell_type": "markdown",
   "id": "3831b45c",
   "metadata": {},
   "source": [
    "Пустых элементов нет.\n",
    "\n",
    "Так как нам доступны все возможные значения для каждого столбца, \n",
    "далее стоит проверить наличие очепяток:"
   ]
  },
  {
   "cell_type": "code",
   "execution_count": 18,
   "id": "635c13a9",
   "metadata": {},
   "outputs": [
    {
     "name": "stdout",
     "output_type": "stream",
     "text": [
      "buying unique values:  ['high', 'low', 'med', 'vhigh']\n",
      "maint unique values:  ['high', 'low', 'med', 'vhigh']\n",
      "doors unique values:  ['2', '3', '4', '5more']\n",
      "persons unique values:  ['2', '4', 'more']\n",
      "lug_boot unique values:  ['big', 'med', 'small']\n",
      "safety unique values:  ['high', 'low', 'med']\n",
      "eval  unique values:  ['acc', 'good', 'unacc', 'vgood']\n"
     ]
    }
   ],
   "source": [
    "for column in cars:\n",
    "    print(f\"{column} unique values: \", sorted(cars[column].unique()))"
   ]
  },
  {
   "cell_type": "markdown",
   "id": "de7bbaa6",
   "metadata": {},
   "source": [
    "Данные необходимо разделить на особенности и классы:"
   ]
  },
  {
   "cell_type": "code",
   "execution_count": 19,
   "id": "01e352ab",
   "metadata": {},
   "outputs": [],
   "source": [
    "cars_X = cars.iloc[:, :-1]\n",
    "cars_y = cars.iloc[:, -1]"
   ]
  },
  {
   "cell_type": "markdown",
   "id": "67a3b2ab",
   "metadata": {},
   "source": [
    "С помощью $\\phi$ функции Крамера проверяется коррелированность столбцов для особенностей, состоящих из категорий"
   ]
  },
  {
   "cell_type": "code",
   "execution_count": 20,
   "id": "7fca3566",
   "metadata": {},
   "outputs": [
    {
     "data": {
      "text/plain": [
       "array([[1., 0., 0., 0., 0., 0.],\n",
       "       [0., 1., 0., 0., 0., 0.],\n",
       "       [0., 0., 1., 0., 0., 0.],\n",
       "       [0., 0., 0., 1., 0., 0.],\n",
       "       [0., 0., 0., 0., 1., 0.],\n",
       "       [0., 0., 0., 0., 0., 1.]])"
      ]
     },
     "execution_count": 20,
     "metadata": {},
     "output_type": "execute_result"
    }
   ],
   "source": [
    "def cramers_v(x, y):\n",
    "    confusion_matrix = pd.crosstab(x,y)\n",
    "    n     = confusion_matrix.sum().sum()\n",
    "    chi2 = chi2_contingency(confusion_matrix)[0]\n",
    "    phi2 = chi2 / n\n",
    "    r, k = confusion_matrix.shape\n",
    "\n",
    "    phi_corr = max(0, phi2 - ((k-1) * (r-1)) / (n-1))\n",
    "    r_corr   = r - ((r-1)**2) / (n-1)\n",
    "    k_corr   = k - ((k-1)**2) / (n-1)\n",
    "    \n",
    "    return np.sqrt( phi_corr / min((k_corr-1), (r_corr-1)) )\n",
    "\n",
    "cram_size = cars_X.shape[1]\n",
    "cars_corr = np.zeros((cram_size, cram_size))\n",
    "for i in range(cram_size):\n",
    "    for j in range(cram_size):\n",
    "        cars_corr[i, j] = cramers_v(cars.iloc[:, i], cars.iloc[:, j])\n",
    "        \n",
    "cars_corr"
   ]
  },
  {
   "cell_type": "markdown",
   "id": "84f8b4f4",
   "metadata": {},
   "source": [
    "Видно, что столбцы никак не коррелируют между собой"
   ]
  },
  {
   "cell_type": "markdown",
   "id": "2542d1ff",
   "metadata": {},
   "source": [
    "### Работа с данными"
   ]
  },
  {
   "cell_type": "markdown",
   "id": "3ff89bad",
   "metadata": {},
   "source": [
    "Данные были разделены раннее, но, так как нет тестовых данных, их разделяют еще раз:"
   ]
  },
  {
   "cell_type": "code",
   "execution_count": 21,
   "id": "cb1e1782",
   "metadata": {},
   "outputs": [],
   "source": [
    "X_train, X_test, y_train, y_test = train_test_split(cars_X.values, cars_y.values, test_size=0.3)"
   ]
  },
  {
   "cell_type": "markdown",
   "id": "7b384a49",
   "metadata": {},
   "source": [
    "Данные классифицируются по такому же алгоритму:"
   ]
  },
  {
   "cell_type": "code",
   "execution_count": 22,
   "id": "6c41c944",
   "metadata": {},
   "outputs": [
    {
     "name": "stdout",
     "output_type": "stream",
     "text": [
      "CPU times: user 9.77 ms, sys: 4.35 ms, total: 14.1 ms\n",
      "Wall time: 12.3 ms\n"
     ]
    },
    {
     "data": {
      "text/plain": [
       "0.861271676300578"
      ]
     },
     "execution_count": 22,
     "metadata": {},
     "output_type": "execute_result"
    }
   ],
   "source": [
    "bayes = classifiers.bayes.Bayes()\n",
    "bayes.train(X_train, y_train)\n",
    "%time y_predict = bayes.predict(X_test)\n",
    "comp = (y_predict == y_test)\n",
    "comp.sum() / comp.shape[0]"
   ]
  },
  {
   "cell_type": "markdown",
   "id": "eeb0acd3",
   "metadata": {},
   "source": [
    "Собственный Байевский классификатор дает точность $84\\%$. Для сравнения с `sklearn` необходимо \n",
    "закодировать данные в численный формат:"
   ]
  },
  {
   "cell_type": "code",
   "execution_count": 23,
   "id": "1c2296cf",
   "metadata": {},
   "outputs": [],
   "source": [
    "feats_encoder = OneHotEncoder()\n",
    "X_train = feats_encoder.fit_transform(X_train)\n",
    "X_test  = feats_encoder.transform(X_test)"
   ]
  },
  {
   "cell_type": "markdown",
   "id": "ab7450be",
   "metadata": {},
   "source": [
    "Теперь, данные можно использовать для байевского классификатора. Наиболее похожий из доступных: `MultinomialNB`"
   ]
  },
  {
   "cell_type": "code",
   "execution_count": 24,
   "id": "70fe1f12",
   "metadata": {},
   "outputs": [
    {
     "name": "stdout",
     "output_type": "stream",
     "text": [
      "CPU times: user 311 µs, sys: 102 µs, total: 413 µs\n",
      "Wall time: 337 µs\n"
     ]
    },
    {
     "name": "stderr",
     "output_type": "stream",
     "text": [
      "/home/rookstar/Documents/venvs/machine_learning/lib/python3.9/site-packages/sklearn/naive_bayes.py:508: UserWarning: alpha too small will result in numeric errors, setting alpha = 1.0e-10\n",
      "  warnings.warn('alpha too small will result in numeric errors, '\n"
     ]
    },
    {
     "data": {
      "text/plain": [
       "0.861271676300578"
      ]
     },
     "execution_count": 24,
     "metadata": {},
     "output_type": "execute_result"
    }
   ],
   "source": [
    "# alpha используется для смягчения, 0 для работы схожей с собственным классификатором\n",
    "mnb = MultinomialNB(alpha=0)\n",
    "mnb.fit(X_train, y_train)\n",
    "%time y_predict = mnb.predict(X_test)\n",
    "comp = (y_predict == y_test)\n",
    "comp.sum() / comp.shape[0]"
   ]
  },
  {
   "cell_type": "markdown",
   "id": "7fdfce19",
   "metadata": {},
   "source": [
    "Хотя если оставить коэффициент смягчения равным единице, то результат не изменится:"
   ]
  },
  {
   "cell_type": "code",
   "execution_count": 25,
   "id": "64091b10",
   "metadata": {},
   "outputs": [
    {
     "name": "stdout",
     "output_type": "stream",
     "text": [
      "CPU times: user 132 µs, sys: 43 µs, total: 175 µs\n",
      "Wall time: 179 µs\n"
     ]
    },
    {
     "data": {
      "text/plain": [
       "0.8554913294797688"
      ]
     },
     "execution_count": 25,
     "metadata": {},
     "output_type": "execute_result"
    }
   ],
   "source": [
    "mnb = MultinomialNB(alpha=1)\n",
    "mnb.fit(X_train, y_train)\n",
    "%time y_predict = mnb.predict(X_test)\n",
    "comp = (y_predict == y_test)\n",
    "comp.sum() / comp.shape[0]"
   ]
  },
  {
   "cell_type": "markdown",
   "id": "bfffac2c",
   "metadata": {},
   "source": [
    "Таким образом, наш классификатор хоть и медленнее, но дает тот же результат"
   ]
  }
 ],
 "metadata": {
  "kernelspec": {
   "display_name": "Python 3",
   "language": "python",
   "name": "python3"
  },
  "language_info": {
   "codemirror_mode": {
    "name": "ipython",
    "version": 3
   },
   "file_extension": ".py",
   "mimetype": "text/x-python",
   "name": "python",
   "nbconvert_exporter": "python",
   "pygments_lexer": "ipython3",
   "version": "3.9.2"
  }
 },
 "nbformat": 4,
 "nbformat_minor": 5
}
