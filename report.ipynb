{
 "cells": [
  {
   "cell_type": "markdown",
   "id": "7d9238b9",
   "metadata": {},
   "source": [
    "# Лабораторная 2: Классификатор\n",
    "\n",
    "> Разработка простых классификаторов: _K-ближайших соседей_ и _наивный байесовский классификатор_."
   ]
  },
  {
   "cell_type": "markdown",
   "id": "9354aafb",
   "metadata": {},
   "source": [
    "Используемые библиотеки (включая собственные классификаторы):"
   ]
  },
  {
   "cell_type": "code",
   "execution_count": 1,
   "id": "9bb896bc",
   "metadata": {},
   "outputs": [],
   "source": [
    "import numpy   as np\n",
    "import pandas  as pd\n",
    "import seaborn as sns\n",
    "import matplotlib.pyplot as plt\n",
    "from sklearn.naive_bayes     import MultinomialNB\n",
    "from sklearn.neighbors       import KNeighborsClassifier\n",
    "from sklearn.model_selection import train_test_split\n",
    "from sklearn.preprocessing   import LabelEncoder\n",
    "\n",
    "import classifiers.knn\n",
    "import classifiers.bayes"
   ]
  },
  {
   "cell_type": "markdown",
   "id": "40a16709",
   "metadata": {},
   "source": [
    "Далее лабораторная будет разделена на две части для каждого классификатора соответственно."
   ]
  },
  {
   "cell_type": "markdown",
   "id": "e480600b",
   "metadata": {},
   "source": [
    "## Метод _K-ближайших соседей_"
   ]
  },
  {
   "cell_type": "markdown",
   "id": "2eb20168",
   "metadata": {},
   "source": [
    "Метод _K-ближайших соседей_ описывает данные на основе их близости к `K` другим соседям. \n",
    "Так как высчитывается расстояние, проще всего работать с данными, особенности у которых - численные.\n",
    "Существует множество разных методов для высчитывания расстояния (вплоть до косинусного коэффицента),\n",
    "но для численных особенностей достаточно расстояние Евклида."
   ]
  },
  {
   "cell_type": "markdown",
   "id": "c53d512a",
   "metadata": {},
   "source": [
    "### Рассмотр данных"
   ]
  },
  {
   "cell_type": "markdown",
   "id": "e594e784",
   "metadata": {},
   "source": [
    "Для начала необходимо рассмотреть данные, с котороми будет проведена работа. \n",
    "[Характеристика красных вин и их оценка](https://www.kaggle.com/uciml/red-wine-quality-cortez-et-al-2009)\n",
    "является хорошим кандидатом, в виду того, что все особенности там численные."
   ]
  },
  {
   "cell_type": "code",
   "execution_count": 2,
   "id": "76372f5b",
   "metadata": {},
   "outputs": [
    {
     "data": {
      "text/html": [
       "<div>\n",
       "<style scoped>\n",
       "    .dataframe tbody tr th:only-of-type {\n",
       "        vertical-align: middle;\n",
       "    }\n",
       "\n",
       "    .dataframe tbody tr th {\n",
       "        vertical-align: top;\n",
       "    }\n",
       "\n",
       "    .dataframe thead th {\n",
       "        text-align: right;\n",
       "    }\n",
       "</style>\n",
       "<table border=\"1\" class=\"dataframe\">\n",
       "  <thead>\n",
       "    <tr style=\"text-align: right;\">\n",
       "      <th></th>\n",
       "      <th>fixed acidity</th>\n",
       "      <th>volatile acidity</th>\n",
       "      <th>citric acid</th>\n",
       "      <th>residual sugar</th>\n",
       "      <th>chlorides</th>\n",
       "      <th>free sulfur dioxide</th>\n",
       "      <th>total sulfur dioxide</th>\n",
       "      <th>density</th>\n",
       "      <th>pH</th>\n",
       "      <th>sulphates</th>\n",
       "      <th>alcohol</th>\n",
       "      <th>quality</th>\n",
       "    </tr>\n",
       "  </thead>\n",
       "  <tbody>\n",
       "    <tr>\n",
       "      <th>0</th>\n",
       "      <td>7.4</td>\n",
       "      <td>0.700</td>\n",
       "      <td>0.00</td>\n",
       "      <td>1.9</td>\n",
       "      <td>0.076</td>\n",
       "      <td>11.0</td>\n",
       "      <td>34.0</td>\n",
       "      <td>0.99780</td>\n",
       "      <td>3.51</td>\n",
       "      <td>0.56</td>\n",
       "      <td>9.4</td>\n",
       "      <td>5</td>\n",
       "    </tr>\n",
       "    <tr>\n",
       "      <th>1</th>\n",
       "      <td>7.8</td>\n",
       "      <td>0.880</td>\n",
       "      <td>0.00</td>\n",
       "      <td>2.6</td>\n",
       "      <td>0.098</td>\n",
       "      <td>25.0</td>\n",
       "      <td>67.0</td>\n",
       "      <td>0.99680</td>\n",
       "      <td>3.20</td>\n",
       "      <td>0.68</td>\n",
       "      <td>9.8</td>\n",
       "      <td>5</td>\n",
       "    </tr>\n",
       "    <tr>\n",
       "      <th>2</th>\n",
       "      <td>7.8</td>\n",
       "      <td>0.760</td>\n",
       "      <td>0.04</td>\n",
       "      <td>2.3</td>\n",
       "      <td>0.092</td>\n",
       "      <td>15.0</td>\n",
       "      <td>54.0</td>\n",
       "      <td>0.99700</td>\n",
       "      <td>3.26</td>\n",
       "      <td>0.65</td>\n",
       "      <td>9.8</td>\n",
       "      <td>5</td>\n",
       "    </tr>\n",
       "    <tr>\n",
       "      <th>3</th>\n",
       "      <td>11.2</td>\n",
       "      <td>0.280</td>\n",
       "      <td>0.56</td>\n",
       "      <td>1.9</td>\n",
       "      <td>0.075</td>\n",
       "      <td>17.0</td>\n",
       "      <td>60.0</td>\n",
       "      <td>0.99800</td>\n",
       "      <td>3.16</td>\n",
       "      <td>0.58</td>\n",
       "      <td>9.8</td>\n",
       "      <td>6</td>\n",
       "    </tr>\n",
       "    <tr>\n",
       "      <th>4</th>\n",
       "      <td>7.4</td>\n",
       "      <td>0.700</td>\n",
       "      <td>0.00</td>\n",
       "      <td>1.9</td>\n",
       "      <td>0.076</td>\n",
       "      <td>11.0</td>\n",
       "      <td>34.0</td>\n",
       "      <td>0.99780</td>\n",
       "      <td>3.51</td>\n",
       "      <td>0.56</td>\n",
       "      <td>9.4</td>\n",
       "      <td>5</td>\n",
       "    </tr>\n",
       "    <tr>\n",
       "      <th>...</th>\n",
       "      <td>...</td>\n",
       "      <td>...</td>\n",
       "      <td>...</td>\n",
       "      <td>...</td>\n",
       "      <td>...</td>\n",
       "      <td>...</td>\n",
       "      <td>...</td>\n",
       "      <td>...</td>\n",
       "      <td>...</td>\n",
       "      <td>...</td>\n",
       "      <td>...</td>\n",
       "      <td>...</td>\n",
       "    </tr>\n",
       "    <tr>\n",
       "      <th>1594</th>\n",
       "      <td>6.2</td>\n",
       "      <td>0.600</td>\n",
       "      <td>0.08</td>\n",
       "      <td>2.0</td>\n",
       "      <td>0.090</td>\n",
       "      <td>32.0</td>\n",
       "      <td>44.0</td>\n",
       "      <td>0.99490</td>\n",
       "      <td>3.45</td>\n",
       "      <td>0.58</td>\n",
       "      <td>10.5</td>\n",
       "      <td>5</td>\n",
       "    </tr>\n",
       "    <tr>\n",
       "      <th>1595</th>\n",
       "      <td>5.9</td>\n",
       "      <td>0.550</td>\n",
       "      <td>0.10</td>\n",
       "      <td>2.2</td>\n",
       "      <td>0.062</td>\n",
       "      <td>39.0</td>\n",
       "      <td>51.0</td>\n",
       "      <td>0.99512</td>\n",
       "      <td>3.52</td>\n",
       "      <td>0.76</td>\n",
       "      <td>11.2</td>\n",
       "      <td>6</td>\n",
       "    </tr>\n",
       "    <tr>\n",
       "      <th>1596</th>\n",
       "      <td>6.3</td>\n",
       "      <td>0.510</td>\n",
       "      <td>0.13</td>\n",
       "      <td>2.3</td>\n",
       "      <td>0.076</td>\n",
       "      <td>29.0</td>\n",
       "      <td>40.0</td>\n",
       "      <td>0.99574</td>\n",
       "      <td>3.42</td>\n",
       "      <td>0.75</td>\n",
       "      <td>11.0</td>\n",
       "      <td>6</td>\n",
       "    </tr>\n",
       "    <tr>\n",
       "      <th>1597</th>\n",
       "      <td>5.9</td>\n",
       "      <td>0.645</td>\n",
       "      <td>0.12</td>\n",
       "      <td>2.0</td>\n",
       "      <td>0.075</td>\n",
       "      <td>32.0</td>\n",
       "      <td>44.0</td>\n",
       "      <td>0.99547</td>\n",
       "      <td>3.57</td>\n",
       "      <td>0.71</td>\n",
       "      <td>10.2</td>\n",
       "      <td>5</td>\n",
       "    </tr>\n",
       "    <tr>\n",
       "      <th>1598</th>\n",
       "      <td>6.0</td>\n",
       "      <td>0.310</td>\n",
       "      <td>0.47</td>\n",
       "      <td>3.6</td>\n",
       "      <td>0.067</td>\n",
       "      <td>18.0</td>\n",
       "      <td>42.0</td>\n",
       "      <td>0.99549</td>\n",
       "      <td>3.39</td>\n",
       "      <td>0.66</td>\n",
       "      <td>11.0</td>\n",
       "      <td>6</td>\n",
       "    </tr>\n",
       "  </tbody>\n",
       "</table>\n",
       "<p>1599 rows × 12 columns</p>\n",
       "</div>"
      ],
      "text/plain": [
       "      fixed acidity  volatile acidity  citric acid  residual sugar  chlorides  \\\n",
       "0               7.4             0.700         0.00             1.9      0.076   \n",
       "1               7.8             0.880         0.00             2.6      0.098   \n",
       "2               7.8             0.760         0.04             2.3      0.092   \n",
       "3              11.2             0.280         0.56             1.9      0.075   \n",
       "4               7.4             0.700         0.00             1.9      0.076   \n",
       "...             ...               ...          ...             ...        ...   \n",
       "1594            6.2             0.600         0.08             2.0      0.090   \n",
       "1595            5.9             0.550         0.10             2.2      0.062   \n",
       "1596            6.3             0.510         0.13             2.3      0.076   \n",
       "1597            5.9             0.645         0.12             2.0      0.075   \n",
       "1598            6.0             0.310         0.47             3.6      0.067   \n",
       "\n",
       "      free sulfur dioxide  total sulfur dioxide  density    pH  sulphates  \\\n",
       "0                    11.0                  34.0  0.99780  3.51       0.56   \n",
       "1                    25.0                  67.0  0.99680  3.20       0.68   \n",
       "2                    15.0                  54.0  0.99700  3.26       0.65   \n",
       "3                    17.0                  60.0  0.99800  3.16       0.58   \n",
       "4                    11.0                  34.0  0.99780  3.51       0.56   \n",
       "...                   ...                   ...      ...   ...        ...   \n",
       "1594                 32.0                  44.0  0.99490  3.45       0.58   \n",
       "1595                 39.0                  51.0  0.99512  3.52       0.76   \n",
       "1596                 29.0                  40.0  0.99574  3.42       0.75   \n",
       "1597                 32.0                  44.0  0.99547  3.57       0.71   \n",
       "1598                 18.0                  42.0  0.99549  3.39       0.66   \n",
       "\n",
       "      alcohol  quality  \n",
       "0         9.4        5  \n",
       "1         9.8        5  \n",
       "2         9.8        5  \n",
       "3         9.8        6  \n",
       "4         9.4        5  \n",
       "...       ...      ...  \n",
       "1594     10.5        5  \n",
       "1595     11.2        6  \n",
       "1596     11.0        6  \n",
       "1597     10.2        5  \n",
       "1598     11.0        6  \n",
       "\n",
       "[1599 rows x 12 columns]"
      ]
     },
     "execution_count": 2,
     "metadata": {},
     "output_type": "execute_result"
    }
   ],
   "source": [
    "data_folder = \"data/\"\n",
    "wines = pd.read_csv(data_folder + \"winequality-red.csv\")\n",
    "wines"
   ]
  },
  {
   "cell_type": "markdown",
   "id": "3509c219",
   "metadata": {},
   "source": [
    "Датасет предоставлен для обучения машины, способной создать идеальные химические пропорции для \n",
    "получения вина высшего качества, но в данном случае ее можно использовать для предсказания оценки\n",
    "на основе известных данных (используя KNN)."
   ]
  },
  {
   "cell_type": "markdown",
   "id": "93382429",
   "metadata": {},
   "source": [
    "Для начала проверим данные на наличие пустых ячеек и выбросов \n",
    "(хотя учитывая алгоритм, они не будут иметь сильного влияния):"
   ]
  },
  {
   "cell_type": "code",
   "execution_count": 3,
   "id": "83326440",
   "metadata": {},
   "outputs": [
    {
     "data": {
      "text/plain": [
       "fixed acidity           0\n",
       "volatile acidity        0\n",
       "citric acid             0\n",
       "residual sugar          0\n",
       "chlorides               0\n",
       "free sulfur dioxide     0\n",
       "total sulfur dioxide    0\n",
       "density                 0\n",
       "pH                      0\n",
       "sulphates               0\n",
       "alcohol                 0\n",
       "quality                 0\n",
       "dtype: int64"
      ]
     },
     "execution_count": 3,
     "metadata": {},
     "output_type": "execute_result"
    }
   ],
   "source": [
    "wines.isnull().sum()"
   ]
  },
  {
   "cell_type": "code",
   "execution_count": 4,
   "id": "a49f9326",
   "metadata": {},
   "outputs": [
    {
     "data": {
      "text/html": [
       "<div>\n",
       "<style scoped>\n",
       "    .dataframe tbody tr th:only-of-type {\n",
       "        vertical-align: middle;\n",
       "    }\n",
       "\n",
       "    .dataframe tbody tr th {\n",
       "        vertical-align: top;\n",
       "    }\n",
       "\n",
       "    .dataframe thead th {\n",
       "        text-align: right;\n",
       "    }\n",
       "</style>\n",
       "<table border=\"1\" class=\"dataframe\">\n",
       "  <thead>\n",
       "    <tr style=\"text-align: right;\">\n",
       "      <th></th>\n",
       "      <th>fixed acidity</th>\n",
       "      <th>volatile acidity</th>\n",
       "      <th>citric acid</th>\n",
       "      <th>residual sugar</th>\n",
       "      <th>chlorides</th>\n",
       "      <th>free sulfur dioxide</th>\n",
       "      <th>total sulfur dioxide</th>\n",
       "      <th>density</th>\n",
       "      <th>pH</th>\n",
       "      <th>sulphates</th>\n",
       "      <th>alcohol</th>\n",
       "      <th>quality</th>\n",
       "    </tr>\n",
       "  </thead>\n",
       "  <tbody>\n",
       "    <tr>\n",
       "      <th>min</th>\n",
       "      <td>4.6</td>\n",
       "      <td>0.12</td>\n",
       "      <td>0.0</td>\n",
       "      <td>0.9</td>\n",
       "      <td>0.012</td>\n",
       "      <td>1.0</td>\n",
       "      <td>6.0</td>\n",
       "      <td>0.99007</td>\n",
       "      <td>2.74</td>\n",
       "      <td>0.33</td>\n",
       "      <td>8.4</td>\n",
       "      <td>3</td>\n",
       "    </tr>\n",
       "    <tr>\n",
       "      <th>max</th>\n",
       "      <td>15.9</td>\n",
       "      <td>1.58</td>\n",
       "      <td>1.0</td>\n",
       "      <td>15.5</td>\n",
       "      <td>0.611</td>\n",
       "      <td>72.0</td>\n",
       "      <td>289.0</td>\n",
       "      <td>1.00369</td>\n",
       "      <td>4.01</td>\n",
       "      <td>2.00</td>\n",
       "      <td>14.9</td>\n",
       "      <td>8</td>\n",
       "    </tr>\n",
       "  </tbody>\n",
       "</table>\n",
       "</div>"
      ],
      "text/plain": [
       "     fixed acidity  volatile acidity  citric acid  residual sugar  chlorides  \\\n",
       "min            4.6              0.12          0.0             0.9      0.012   \n",
       "max           15.9              1.58          1.0            15.5      0.611   \n",
       "\n",
       "     free sulfur dioxide  total sulfur dioxide  density    pH  sulphates  \\\n",
       "min                  1.0                   6.0  0.99007  2.74       0.33   \n",
       "max                 72.0                 289.0  1.00369  4.01       2.00   \n",
       "\n",
       "     alcohol  quality  \n",
       "min      8.4        3  \n",
       "max     14.9        8  "
      ]
     },
     "execution_count": 4,
     "metadata": {},
     "output_type": "execute_result"
    }
   ],
   "source": [
    "wines.agg(['min', 'max'])"
   ]
  },
  {
   "cell_type": "markdown",
   "id": "2bfffd94",
   "metadata": {},
   "source": [
    "В таблице нет ни одной пустой ячейки, и все данные расположены достаточно рядом за исключением \"total sulfur dioxide\". Рассмотрев её подробнее:"
   ]
  },
  {
   "cell_type": "code",
   "execution_count": 5,
   "id": "621c52d4",
   "metadata": {},
   "outputs": [
    {
     "data": {
      "text/html": [
       "<div>\n",
       "<style scoped>\n",
       "    .dataframe tbody tr th:only-of-type {\n",
       "        vertical-align: middle;\n",
       "    }\n",
       "\n",
       "    .dataframe tbody tr th {\n",
       "        vertical-align: top;\n",
       "    }\n",
       "\n",
       "    .dataframe thead th {\n",
       "        text-align: right;\n",
       "    }\n",
       "</style>\n",
       "<table border=\"1\" class=\"dataframe\">\n",
       "  <thead>\n",
       "    <tr style=\"text-align: right;\">\n",
       "      <th></th>\n",
       "      <th>fixed acidity</th>\n",
       "      <th>volatile acidity</th>\n",
       "      <th>citric acid</th>\n",
       "      <th>residual sugar</th>\n",
       "      <th>chlorides</th>\n",
       "      <th>free sulfur dioxide</th>\n",
       "      <th>total sulfur dioxide</th>\n",
       "      <th>density</th>\n",
       "      <th>pH</th>\n",
       "      <th>sulphates</th>\n",
       "      <th>alcohol</th>\n",
       "      <th>quality</th>\n",
       "    </tr>\n",
       "  </thead>\n",
       "  <tbody>\n",
       "    <tr>\n",
       "      <th>1079</th>\n",
       "      <td>7.9</td>\n",
       "      <td>0.3</td>\n",
       "      <td>0.68</td>\n",
       "      <td>8.3</td>\n",
       "      <td>0.05</td>\n",
       "      <td>37.5</td>\n",
       "      <td>278.0</td>\n",
       "      <td>0.99316</td>\n",
       "      <td>3.01</td>\n",
       "      <td>0.51</td>\n",
       "      <td>12.3</td>\n",
       "      <td>7</td>\n",
       "    </tr>\n",
       "    <tr>\n",
       "      <th>1081</th>\n",
       "      <td>7.9</td>\n",
       "      <td>0.3</td>\n",
       "      <td>0.68</td>\n",
       "      <td>8.3</td>\n",
       "      <td>0.05</td>\n",
       "      <td>37.5</td>\n",
       "      <td>289.0</td>\n",
       "      <td>0.99316</td>\n",
       "      <td>3.01</td>\n",
       "      <td>0.51</td>\n",
       "      <td>12.3</td>\n",
       "      <td>7</td>\n",
       "    </tr>\n",
       "  </tbody>\n",
       "</table>\n",
       "</div>"
      ],
      "text/plain": [
       "      fixed acidity  volatile acidity  citric acid  residual sugar  chlorides  \\\n",
       "1079            7.9               0.3         0.68             8.3       0.05   \n",
       "1081            7.9               0.3         0.68             8.3       0.05   \n",
       "\n",
       "      free sulfur dioxide  total sulfur dioxide  density    pH  sulphates  \\\n",
       "1079                 37.5                 278.0  0.99316  3.01       0.51   \n",
       "1081                 37.5                 289.0  0.99316  3.01       0.51   \n",
       "\n",
       "      alcohol  quality  \n",
       "1079     12.3        7  \n",
       "1081     12.3        7  "
      ]
     },
     "execution_count": 5,
     "metadata": {},
     "output_type": "execute_result"
    },
    {
     "data": {
      "image/png": "[encoded data removed]",
      "text/plain": [
       "<Figure size 432x288 with 1 Axes>"
      ]
     },
     "metadata": {
      "needs_background": "light"
     },
     "output_type": "display_data"
    }
   ],
   "source": [
    "wines[\"total sulfur dioxide\"].plot.hist()\n",
    "wines.loc[wines[\"total sulfur dioxide\"] > 200]"
   ]
  },
  {
   "cell_type": "markdown",
   "id": "df483763",
   "metadata": {},
   "source": [
    "Видно, что две строки зашли дальше остальных. Эти строки можно исключить но, так как алгоритм работает \n",
    "на близости соседей, а не на распределении, их можно игнорировать."
   ]
  },
  {
   "cell_type": "markdown",
   "id": "c22d1082",
   "metadata": {},
   "source": [
    "Столбец классов и столбцы особенностей необходимо отделить друг от друга:"
   ]
  },
  {
   "cell_type": "code",
   "execution_count": 6,
   "id": "600febf1",
   "metadata": {},
   "outputs": [],
   "source": [
    "X, y = wines.iloc[:, :-1], wines.iloc[:, -1]"
   ]
  },
  {
   "cell_type": "markdown",
   "id": "ebc07964",
   "metadata": {},
   "source": [
    "### Использование классификатора"
   ]
  },
  {
   "cell_type": "markdown",
   "id": "f0c7f9f5",
   "metadata": {},
   "source": [
    "Так как у нас нет тестовых данных, придется разделить наши на две части: обучающие и тестовые - и преобразовать \n",
    "из таблицы в массивы"
   ]
  },
  {
   "cell_type": "code",
   "execution_count": 7,
   "id": "72f87299",
   "metadata": {},
   "outputs": [],
   "source": [
    "X_train, X_test, y_train, y_test = train_test_split(X, y, test_size=0.3)\n",
    "\n",
    "X_train = X_train.values\n",
    "X_test  = X_test.values\n",
    "y_train = y_train.values\n",
    "y_test  = y_test.values\n"
   ]
  },
  {
   "cell_type": "markdown",
   "id": "3a66d3e0",
   "metadata": {},
   "source": [
    "Отправим тренеровочные данных в свой классификатор:"
   ]
  },
  {
   "cell_type": "code",
   "execution_count": 8,
   "id": "c1d64507",
   "metadata": {
    "scrolled": true
   },
   "outputs": [
    {
     "data": {
      "text/plain": [
       "<classifiers.knn.KNN at 0x7f95ad779df0>"
      ]
     },
     "execution_count": 8,
     "metadata": {},
     "output_type": "execute_result"
    }
   ],
   "source": [
    "knn_1 = classifiers.knn.KNN(5)\n",
    "knn_1.train(X_train, y_train)"
   ]
  },
  {
   "cell_type": "markdown",
   "id": "c5fe4215",
   "metadata": {},
   "source": [
    "Теперь можно попробовать классифицировать тренеровочные данные:"
   ]
  },
  {
   "cell_type": "code",
   "execution_count": 9,
   "id": "535b4f83",
   "metadata": {},
   "outputs": [
    {
     "name": "stdout",
     "output_type": "stream",
     "text": [
      "CPU times: user 3.13 s, sys: 27.3 ms, total: 3.16 s\n",
      "Wall time: 3.14 s\n"
     ]
    }
   ],
   "source": [
    "%time y_predict = knn_1.predict(X_test)"
   ]
  },
  {
   "cell_type": "markdown",
   "id": "ed1b514d",
   "metadata": {},
   "source": [
    "Полученный результат можно сравнить с реальными классами:"
   ]
  },
  {
   "cell_type": "code",
   "execution_count": 10,
   "id": "e0e8c9ce",
   "metadata": {},
   "outputs": [
    {
     "data": {
      "text/plain": [
       "0.5541666666666667"
      ]
     },
     "execution_count": 10,
     "metadata": {},
     "output_type": "execute_result"
    }
   ],
   "source": [
    "comp = (y_predict == y_test)\n",
    "comp.sum() / comp.shape[0]"
   ]
  },
  {
   "cell_type": "markdown",
   "id": "7088db91",
   "metadata": {},
   "source": [
    "Три запуска показали процент точности, близкий к 50, _в зависимости от того, как данные были разделены_. \n",
    "Те же данные можно использовать и для классификатора библиотеки `sklearn`: "
   ]
  },
  {
   "cell_type": "code",
   "execution_count": 11,
   "id": "fbcf39a2",
   "metadata": {},
   "outputs": [
    {
     "name": "stdout",
     "output_type": "stream",
     "text": [
      "CPU times: user 13.7 ms, sys: 113 µs, total: 13.8 ms\n",
      "Wall time: 13.9 ms\n"
     ]
    },
    {
     "data": {
      "text/plain": [
       "0.5270833333333333"
      ]
     },
     "execution_count": 11,
     "metadata": {},
     "output_type": "execute_result"
    }
   ],
   "source": [
    "knn_2 = KNeighborsClassifier(5)\n",
    "knn_2.fit(X_train, y_train)\n",
    "%time y_predict = knn_2.predict(X_test)\n",
    "comp = (y_predict == y_test)\n",
    "comp.sum() / comp.shape[0]"
   ]
  },
  {
   "cell_type": "markdown",
   "id": "6a29dd6e",
   "metadata": {},
   "source": [
    "Который также показывает процент точности, близкий к 50, но имеет значительно большую скорость, так как\n",
    "он пользуется предварительной обработкой данных для ускорения подсчета расстояния (собственная реализация\n",
    "пользуется простой реализацией за квадратичное время)."
   ]
  },
  {
   "cell_type": "markdown",
   "id": "b90b25b6",
   "metadata": {},
   "source": [
    "## _Наивный байевский классификатор_"
   ]
  },
  {
   "cell_type": "markdown",
   "id": "5bfb38eb",
   "metadata": {},
   "source": [
    "Вся идея байевского классификатора лежит в формуле Теореме Байеса:\n",
    "$$\n",
    "    P(c | x_1, x_2, ...) = \\frac{P(c) P(x_1 | c) P(x_2 | c) ...}{P(x_1) P(x_2) ...}\n",
    "$$\n",
    "То есть вероятность класса $c$ в условиях особенностей $x_1, x_2, ...$ равна вероятности класса $c$ и \n",
    "вероятности особенностей $x_1, x_2, ...$ в условиях класса $c$, деленная на вероятность $x_1, x_2, ...$\n",
    "независимо от класса. Так как мы сравниваем вероятности, делитель можно опустить.\n",
    "\n",
    "В отличие от _K-ближайших соседей_, здесь не нужно вычислять расстояние и классификатор может принимать\n",
    "и численные, так и словесные особенности, но для численных значений следует использовать другие методы\n",
    "высчитывания вероятности, особенно если это значения с плавающей точкой"
   ]
  },
  {
   "cell_type": "markdown",
   "id": "87984005",
   "metadata": {},
   "source": [
    "### Рассмотр данных"
   ]
  },
  {
   "cell_type": "markdown",
   "id": "1e05b73a",
   "metadata": {},
   "source": [
    "[Следующие данные](https://www.kaggle.com/kaushiksuresh147/customer-segmentation) \n",
    "содержат результаты разделения людей по категориям и связанные с ними данные и \n",
    "используют словесные особенности (к ним также приложены тестовые данные):"
   ]
  },
  {
   "cell_type": "code",
   "execution_count": 12,
   "id": "b0c805f4",
   "metadata": {},
   "outputs": [
    {
     "data": {
      "text/html": [
       "<div>\n",
       "<style scoped>\n",
       "    .dataframe tbody tr th:only-of-type {\n",
       "        vertical-align: middle;\n",
       "    }\n",
       "\n",
       "    .dataframe tbody tr th {\n",
       "        vertical-align: top;\n",
       "    }\n",
       "\n",
       "    .dataframe thead th {\n",
       "        text-align: right;\n",
       "    }\n",
       "</style>\n",
       "<table border=\"1\" class=\"dataframe\">\n",
       "  <thead>\n",
       "    <tr style=\"text-align: right;\">\n",
       "      <th></th>\n",
       "      <th>ID</th>\n",
       "      <th>Gender</th>\n",
       "      <th>Ever_Married</th>\n",
       "      <th>Age</th>\n",
       "      <th>Graduated</th>\n",
       "      <th>Profession</th>\n",
       "      <th>Work_Experience</th>\n",
       "      <th>Spending_Score</th>\n",
       "      <th>Family_Size</th>\n",
       "      <th>Var_1</th>\n",
       "      <th>Segmentation</th>\n",
       "    </tr>\n",
       "  </thead>\n",
       "  <tbody>\n",
       "    <tr>\n",
       "      <th>0</th>\n",
       "      <td>462809</td>\n",
       "      <td>Male</td>\n",
       "      <td>No</td>\n",
       "      <td>22</td>\n",
       "      <td>No</td>\n",
       "      <td>Healthcare</td>\n",
       "      <td>1.0</td>\n",
       "      <td>Low</td>\n",
       "      <td>4.0</td>\n",
       "      <td>Cat_4</td>\n",
       "      <td>D</td>\n",
       "    </tr>\n",
       "    <tr>\n",
       "      <th>1</th>\n",
       "      <td>462643</td>\n",
       "      <td>Female</td>\n",
       "      <td>Yes</td>\n",
       "      <td>38</td>\n",
       "      <td>Yes</td>\n",
       "      <td>Engineer</td>\n",
       "      <td>NaN</td>\n",
       "      <td>Average</td>\n",
       "      <td>3.0</td>\n",
       "      <td>Cat_4</td>\n",
       "      <td>A</td>\n",
       "    </tr>\n",
       "    <tr>\n",
       "      <th>2</th>\n",
       "      <td>466315</td>\n",
       "      <td>Female</td>\n",
       "      <td>Yes</td>\n",
       "      <td>67</td>\n",
       "      <td>Yes</td>\n",
       "      <td>Engineer</td>\n",
       "      <td>1.0</td>\n",
       "      <td>Low</td>\n",
       "      <td>1.0</td>\n",
       "      <td>Cat_6</td>\n",
       "      <td>B</td>\n",
       "    </tr>\n",
       "    <tr>\n",
       "      <th>3</th>\n",
       "      <td>461735</td>\n",
       "      <td>Male</td>\n",
       "      <td>Yes</td>\n",
       "      <td>67</td>\n",
       "      <td>Yes</td>\n",
       "      <td>Lawyer</td>\n",
       "      <td>0.0</td>\n",
       "      <td>High</td>\n",
       "      <td>2.0</td>\n",
       "      <td>Cat_6</td>\n",
       "      <td>B</td>\n",
       "    </tr>\n",
       "    <tr>\n",
       "      <th>4</th>\n",
       "      <td>462669</td>\n",
       "      <td>Female</td>\n",
       "      <td>Yes</td>\n",
       "      <td>40</td>\n",
       "      <td>Yes</td>\n",
       "      <td>Entertainment</td>\n",
       "      <td>NaN</td>\n",
       "      <td>High</td>\n",
       "      <td>6.0</td>\n",
       "      <td>Cat_6</td>\n",
       "      <td>A</td>\n",
       "    </tr>\n",
       "    <tr>\n",
       "      <th>...</th>\n",
       "      <td>...</td>\n",
       "      <td>...</td>\n",
       "      <td>...</td>\n",
       "      <td>...</td>\n",
       "      <td>...</td>\n",
       "      <td>...</td>\n",
       "      <td>...</td>\n",
       "      <td>...</td>\n",
       "      <td>...</td>\n",
       "      <td>...</td>\n",
       "      <td>...</td>\n",
       "    </tr>\n",
       "    <tr>\n",
       "      <th>8063</th>\n",
       "      <td>464018</td>\n",
       "      <td>Male</td>\n",
       "      <td>No</td>\n",
       "      <td>22</td>\n",
       "      <td>No</td>\n",
       "      <td>NaN</td>\n",
       "      <td>0.0</td>\n",
       "      <td>Low</td>\n",
       "      <td>7.0</td>\n",
       "      <td>Cat_1</td>\n",
       "      <td>D</td>\n",
       "    </tr>\n",
       "    <tr>\n",
       "      <th>8064</th>\n",
       "      <td>464685</td>\n",
       "      <td>Male</td>\n",
       "      <td>No</td>\n",
       "      <td>35</td>\n",
       "      <td>No</td>\n",
       "      <td>Executive</td>\n",
       "      <td>3.0</td>\n",
       "      <td>Low</td>\n",
       "      <td>4.0</td>\n",
       "      <td>Cat_4</td>\n",
       "      <td>D</td>\n",
       "    </tr>\n",
       "    <tr>\n",
       "      <th>8065</th>\n",
       "      <td>465406</td>\n",
       "      <td>Female</td>\n",
       "      <td>No</td>\n",
       "      <td>33</td>\n",
       "      <td>Yes</td>\n",
       "      <td>Healthcare</td>\n",
       "      <td>1.0</td>\n",
       "      <td>Low</td>\n",
       "      <td>1.0</td>\n",
       "      <td>Cat_6</td>\n",
       "      <td>D</td>\n",
       "    </tr>\n",
       "    <tr>\n",
       "      <th>8066</th>\n",
       "      <td>467299</td>\n",
       "      <td>Female</td>\n",
       "      <td>No</td>\n",
       "      <td>27</td>\n",
       "      <td>Yes</td>\n",
       "      <td>Healthcare</td>\n",
       "      <td>1.0</td>\n",
       "      <td>Low</td>\n",
       "      <td>4.0</td>\n",
       "      <td>Cat_6</td>\n",
       "      <td>B</td>\n",
       "    </tr>\n",
       "    <tr>\n",
       "      <th>8067</th>\n",
       "      <td>461879</td>\n",
       "      <td>Male</td>\n",
       "      <td>Yes</td>\n",
       "      <td>37</td>\n",
       "      <td>Yes</td>\n",
       "      <td>Executive</td>\n",
       "      <td>0.0</td>\n",
       "      <td>Average</td>\n",
       "      <td>3.0</td>\n",
       "      <td>Cat_4</td>\n",
       "      <td>B</td>\n",
       "    </tr>\n",
       "  </tbody>\n",
       "</table>\n",
       "<p>8068 rows × 11 columns</p>\n",
       "</div>"
      ],
      "text/plain": [
       "          ID  Gender Ever_Married  Age Graduated     Profession  \\\n",
       "0     462809    Male           No   22        No     Healthcare   \n",
       "1     462643  Female          Yes   38       Yes       Engineer   \n",
       "2     466315  Female          Yes   67       Yes       Engineer   \n",
       "3     461735    Male          Yes   67       Yes         Lawyer   \n",
       "4     462669  Female          Yes   40       Yes  Entertainment   \n",
       "...      ...     ...          ...  ...       ...            ...   \n",
       "8063  464018    Male           No   22        No            NaN   \n",
       "8064  464685    Male           No   35        No      Executive   \n",
       "8065  465406  Female           No   33       Yes     Healthcare   \n",
       "8066  467299  Female           No   27       Yes     Healthcare   \n",
       "8067  461879    Male          Yes   37       Yes      Executive   \n",
       "\n",
       "      Work_Experience Spending_Score  Family_Size  Var_1 Segmentation  \n",
       "0                 1.0            Low          4.0  Cat_4            D  \n",
       "1                 NaN        Average          3.0  Cat_4            A  \n",
       "2                 1.0            Low          1.0  Cat_6            B  \n",
       "3                 0.0           High          2.0  Cat_6            B  \n",
       "4                 NaN           High          6.0  Cat_6            A  \n",
       "...               ...            ...          ...    ...          ...  \n",
       "8063              0.0            Low          7.0  Cat_1            D  \n",
       "8064              3.0            Low          4.0  Cat_4            D  \n",
       "8065              1.0            Low          1.0  Cat_6            D  \n",
       "8066              1.0            Low          4.0  Cat_6            B  \n",
       "8067              0.0        Average          3.0  Cat_4            B  \n",
       "\n",
       "[8068 rows x 11 columns]"
      ]
     },
     "execution_count": 12,
     "metadata": {},
     "output_type": "execute_result"
    }
   ],
   "source": [
    "customers = pd.read_csv(data_folder + \"customer-segmentation/original/Train.csv\")\n",
    "cust_test = pd.read_csv(data_folder + \"customer-segmentation/original/Test.csv\")\n",
    "customers"
   ]
  },
  {
   "cell_type": "markdown",
   "id": "1968ec13",
   "metadata": {},
   "source": [
    "Здесь можно заметить присутствие столбца ID, который можно откинуть, так как классификатору он не интересен.\n",
    "Столбец `Var_1` содержит данных, личные для человека.\n",
    "Столбец `Segmentation` содержит нужно разделение на классы. Необходимо проверить на пустые ячейки:"
   ]
  },
  {
   "cell_type": "code",
   "execution_count": 13,
   "id": "b72fdd0a",
   "metadata": {},
   "outputs": [
    {
     "data": {
      "text/plain": [
       "ID                   0\n",
       "Gender               0\n",
       "Ever_Married       140\n",
       "Age                  0\n",
       "Graduated           78\n",
       "Profession         124\n",
       "Work_Experience    829\n",
       "Spending_Score       0\n",
       "Family_Size        335\n",
       "Var_1               76\n",
       "Segmentation         0\n",
       "dtype: int64"
      ]
     },
     "execution_count": 13,
     "metadata": {},
     "output_type": "execute_result"
    }
   ],
   "source": [
    "customers.isnull().sum()"
   ]
  },
  {
   "cell_type": "markdown",
   "id": "51cc2c03",
   "metadata": {},
   "source": [
    "Более 829 строк содержат пустые значения, от которых избавится трудно, так как наши данные имеют формат опроса\n",
    "Для начала можно попробовать просто избавится от этих строк:"
   ]
  },
  {
   "cell_type": "code",
   "execution_count": 14,
   "id": "d195fa0d",
   "metadata": {},
   "outputs": [
    {
     "name": "stdout",
     "output_type": "stream",
     "text": [
      "Процент полных строк в тренеровочных данных:  0.8261031234506693\n",
      "Процент полных строк в тестовых данных:       0.8199467072706509\n"
     ]
    }
   ],
   "source": [
    "print(\"Процент полных строк в тренеровочных данных: \", customers.dropna().shape[0] / customers.shape[0])\n",
    "print(\"Процент полных строк в тестовых данных:      \", cust_test.dropna().shape[0] / cust_test.shape[0])"
   ]
  },
  {
   "cell_type": "markdown",
   "id": "43f46aac",
   "metadata": {},
   "source": [
    "Значит, выбросив строки с пустыми значениями мы теряем примерно $20\\%$ данных, что достаточно много, но взамен\n",
    "увеличивается точность, так как нет необходимости заполнять пустые значения ложными данными."
   ]
  },
  {
   "cell_type": "code",
   "execution_count": 15,
   "id": "02cd51cb",
   "metadata": {},
   "outputs": [],
   "source": [
    "customers = customers.dropna()\n",
    "cust_test = cust_test.dropna()"
   ]
  },
  {
   "cell_type": "markdown",
   "id": "4255620c",
   "metadata": {},
   "source": [
    "Так как у нас нет способов проверить корректность словесных данных мы можем только \n",
    "проверить их на отсутствие очепяток (кроме столбца `ID`):"
   ]
  },
  {
   "cell_type": "code",
   "execution_count": 16,
   "id": "320a6a1d",
   "metadata": {},
   "outputs": [
    {
     "name": "stdout",
     "output_type": "stream",
     "text": [
      "Gender unique values:  ['Female', 'Male']\n",
      "Ever_Married unique values:  ['No', 'Yes']\n",
      "Age unique values:  [18, 19, 20, 21, 22, 23, 25, 26, 27, 28, 29, 30, 31, 32, 33, 35, 36, 37, 38, 39, 40, 41, 42, 43, 45, 46, 47, 48, 49, 50, 51, 52, 53, 55, 56, 57, 58, 59, 60, 61, 62, 63, 65, 66, 67, 68, 69, 70, 71, 72, 73, 74, 75, 76, 77, 78, 79, 80, 81, 82, 83, 84, 85, 86, 87, 88, 89]\n",
      "Graduated unique values:  ['No', 'Yes']\n",
      "Profession unique values:  ['Artist', 'Doctor', 'Engineer', 'Entertainment', 'Executive', 'Healthcare', 'Homemaker', 'Lawyer', 'Marketing']\n",
      "Work_Experience unique values:  [0.0, 1.0, 2.0, 3.0, 4.0, 5.0, 6.0, 7.0, 8.0, 9.0, 10.0, 11.0, 12.0, 13.0, 14.0]\n",
      "Spending_Score unique values:  ['Average', 'High', 'Low']\n",
      "Family_Size unique values:  [1.0, 2.0, 3.0, 4.0, 5.0, 6.0, 7.0, 8.0, 9.0]\n",
      "Var_1 unique values:  ['Cat_1', 'Cat_2', 'Cat_3', 'Cat_4', 'Cat_5', 'Cat_6', 'Cat_7']\n",
      "Segmentation unique values:  ['A', 'B', 'C', 'D']\n"
     ]
    }
   ],
   "source": [
    "for column in customers.drop(\"ID\", axis=1):\n",
    "    print(f\"{column} unique values: \", sorted(customers[column].unique()))"
   ]
  },
  {
   "cell_type": "markdown",
   "id": "56f55540",
   "metadata": {},
   "source": [
    "Здесь видно, что все значения в пределах ожидаемого."
   ]
  },
  {
   "cell_type": "markdown",
   "id": "72779570",
   "metadata": {},
   "source": [
    "### Работа с данными"
   ]
  },
  {
   "cell_type": "markdown",
   "id": "9025c6a9",
   "metadata": {},
   "source": [
    "Для начала нужно выделить сами данные"
   ]
  },
  {
   "cell_type": "code",
   "execution_count": 17,
   "id": "f113c9f9",
   "metadata": {},
   "outputs": [
    {
     "data": {
      "text/plain": [
       "pandas.core.frame.DataFrame"
      ]
     },
     "execution_count": 17,
     "metadata": {},
     "output_type": "execute_result"
    }
   ],
   "source": [
    "X_train, y_train = customers.iloc[:, 1:-1], customers.iloc[:, -1]\n",
    "X_test,  y_test  = cust_test.iloc[:, 1:-1], cust_test.iloc[:, -1]\n",
    "type(X_train)"
   ]
  },
  {
   "cell_type": "markdown",
   "id": "6fe93812",
   "metadata": {},
   "source": [
    "Полученые данные стоит преобразовать в массив:"
   ]
  },
  {
   "cell_type": "code",
   "execution_count": 18,
   "id": "adda5d3c",
   "metadata": {},
   "outputs": [
    {
     "data": {
      "text/plain": [
       "numpy.ndarray"
      ]
     },
     "execution_count": 18,
     "metadata": {},
     "output_type": "execute_result"
    }
   ],
   "source": [
    "X_train, y_train = X_train.values, y_train.values\n",
    "X_test,  y_test  = X_test.values,  y_test.values\n",
    "type(X_train)"
   ]
  },
  {
   "cell_type": "markdown",
   "id": "040fea1b",
   "metadata": {},
   "source": [
    "Данные классифицирются по такому же алгоритму:"
   ]
  },
  {
   "cell_type": "code",
   "execution_count": 19,
   "id": "09f070cd",
   "metadata": {},
   "outputs": [
    {
     "name": "stdout",
     "output_type": "stream",
     "text": [
      "CPU times: user 56.4 ms, sys: 4.18 ms, total: 60.6 ms\n",
      "Wall time: 52.6 ms\n"
     ]
    },
    {
     "data": {
      "text/plain": [
       "0.32729805013927576"
      ]
     },
     "execution_count": 19,
     "metadata": {},
     "output_type": "execute_result"
    }
   ],
   "source": [
    "bayes = classifiers.bayes.Bayes()\n",
    "bayes.train(X_train, y_train)\n",
    "%time y_predict = bayes.predict(X_test)\n",
    "comp = (y_predict == y_test)\n",
    "comp.sum() / comp.shape[0]"
   ]
  },
  {
   "cell_type": "markdown",
   "id": "a15c4ca1",
   "metadata": {},
   "source": [
    "Собственный Байевский классификатор дает точность $32\\%$. Для сравнения с `sklearn` необходимо \n",
    "закодировать данные в численный формат:"
   ]
  },
  {
   "cell_type": "code",
   "execution_count": 20,
   "id": "212a2c1a",
   "metadata": {},
   "outputs": [],
   "source": [
    "feats_encoders = [LabelEncoder() for _ in range(X_train.shape[1])]\n",
    "for i in range(X_train.shape[1]):\n",
    "    X_train[:, i] = feats_encoders[i].fit_transform(X_train[:, i])\n",
    "    X_test[:, i] = feats_encoders[i].transform(X_test[:, i])\n",
    "\n",
    "goal_encoder = LabelEncoder()\n",
    "y_train = goal_encoder.fit_transform(y_train)\n",
    "y_test  = goal_encoder.transform(y_test)"
   ]
  },
  {
   "cell_type": "markdown",
   "id": "f4ffbb6d",
   "metadata": {},
   "source": [
    "Теперь, данные можно использовать для байевского классификатора. Самый ближайший из доступных: `MultinomialNB`"
   ]
  },
  {
   "cell_type": "code",
   "execution_count": 21,
   "id": "8d456154",
   "metadata": {},
   "outputs": [
    {
     "name": "stdout",
     "output_type": "stream",
     "text": [
      "CPU times: user 659 µs, sys: 199 µs, total: 858 µs\n",
      "Wall time: 746 µs\n"
     ]
    },
    {
     "name": "stderr",
     "output_type": "stream",
     "text": [
      "/home/rookstar/Documents/venvs/machine_learning/lib/python3.9/site-packages/sklearn/naive_bayes.py:508: UserWarning: alpha too small will result in numeric errors, setting alpha = 1.0e-10\n",
      "  warnings.warn('alpha too small will result in numeric errors, '\n"
     ]
    },
    {
     "data": {
      "text/plain": [
       "0.32729805013927576"
      ]
     },
     "execution_count": 21,
     "metadata": {},
     "output_type": "execute_result"
    }
   ],
   "source": [
    "# alpha используется для смягчения, 0 для работы схожей с собственным классификатором\n",
    "mnb = MultinomialNB(alpha=0)\n",
    "mnb.fit(X_train, y_train)\n",
    "%time y_predict = mnb.predict(X_test)\n",
    "comp = (y_predict == y_test)\n",
    "comp.sum() / comp.shape[0]"
   ]
  },
  {
   "cell_type": "markdown",
   "id": "b9208213",
   "metadata": {},
   "source": [
    "Хотя если оставить коэффициент смягчения равным единице, то результат не изменится:"
   ]
  },
  {
   "cell_type": "code",
   "execution_count": 22,
   "id": "bfda7d13",
   "metadata": {},
   "outputs": [
    {
     "name": "stdout",
     "output_type": "stream",
     "text": [
      "CPU times: user 734 µs, sys: 221 µs, total: 955 µs\n",
      "Wall time: 962 µs\n"
     ]
    },
    {
     "data": {
      "text/plain": [
       "0.32729805013927576"
      ]
     },
     "execution_count": 22,
     "metadata": {},
     "output_type": "execute_result"
    }
   ],
   "source": [
    "mnb = MultinomialNB(alpha=1)\n",
    "mnb.fit(X_train, y_train)\n",
    "%time y_predict = mnb.predict(X_test)\n",
    "comp = (y_predict == y_test)\n",
    "comp.sum() / comp.shape[0]"
   ]
  },
  {
   "cell_type": "markdown",
   "id": "77530ccd",
   "metadata": {},
   "source": [
    "Таким образом, наш классификатор хоть и медленее, но дает тот же результат"
   ]
  }
 ],
 "metadata": {
  "kernelspec": {
   "display_name": "Python 3",
   "language": "python",
   "name": "python3"
  },
  "language_info": {
   "codemirror_mode": {
    "name": "ipython",
    "version": 3
   },
   "file_extension": ".py",
   "mimetype": "text/x-python",
   "name": "python",
   "nbconvert_exporter": "python",
   "pygments_lexer": "ipython3",
   "version": "3.9.2"
  }
 },
 "nbformat": 4,
 "nbformat_minor": 5
}
