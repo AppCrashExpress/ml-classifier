{
 "cells": [
  {
   "cell_type": "markdown",
   "id": "78220f91",
   "metadata": {},
   "source": [
    "# Лабораторная 4: Классификаторы\n",
    "\n",
    "> Разработка классификаторов: _Логистическая регрессия_, _Дерево решений_ и _Random forest_."
   ]
  },
  {
   "cell_type": "markdown",
   "id": "846ee833",
   "metadata": {},
   "source": [
    "Используемые библиотеки (включая собственные классификаторы):"
   ]
  },
  {
   "cell_type": "code",
   "execution_count": 1,
   "id": "0f915b62",
   "metadata": {},
   "outputs": [],
   "source": [
    "import numpy   as np\n",
    "import pandas  as pd\n",
    "\n",
    "from sklearn import linear_model\n",
    "from sklearn import tree\n",
    "from sklearn import ensemble\n",
    "\n",
    "from sklearn.model_selection import train_test_split\n",
    "from sklearn.preprocessing   import OneHotEncoder, LabelEncoder\n",
    "from sklearn.metrics         import confusion_matrix, ConfusionMatrixDisplay\n",
    "\n",
    "from classifiers.logistic_regression import LogisticRegression\n",
    "from classifiers.trees import CART, RandomForest\n",
    "\n",
    "data_folder = \"data/\" # Папка хранения данных"
   ]
  },
  {
   "cell_type": "markdown",
   "id": "483c0459",
   "metadata": {},
   "source": [
    "### Обработка данных\n",
    "\n",
    "Описание обработки данных содержится в предыдущем отчете, а здесь будет только повтор действий.\n",
    "Если потребуется какая-либо дополнительная обработка, она будет расписана."
   ]
  },
  {
   "cell_type": "code",
   "execution_count": 2,
   "id": "eb1623bc",
   "metadata": {},
   "outputs": [],
   "source": [
    "# Load wine data\n",
    "\n",
    "wines = pd.read_csv(data_folder + \"winequality-red.csv\")\n",
    "wines = wines.drop(columns=[\"fixed acidity\", \"citric acid\", \"total sulfur dioxide\", \"density\"])\n",
    "wines[\"quality\"] = wines[\"quality\"].apply(lambda x : 1 if x >= 6 else 0)\n",
    "X, y = wines.iloc[:, :-1], wines.iloc[:, -1]\n",
    "\n",
    "W_X_train, W_X_test, W_y_train, W_y_test = train_test_split(X.values, y.values, test_size=0.3)\n",
    "\n",
    "# Load cars data\n",
    "\n",
    "cars = pd.read_csv(data_folder + \"cars/car.data\")\n",
    "X, y = cars.iloc[:, :-1], cars.iloc[:, -1]\n",
    "C_X_train, C_X_test, C_y_train, C_y_test = train_test_split(X.values, y.values, test_size=0.3)"
   ]
  },
  {
   "cell_type": "markdown",
   "id": "ba8d513c",
   "metadata": {},
   "source": [
    "Во всех задачах классификации будет потребовано, чтобы датасет с машинами был закодирован:"
   ]
  },
  {
   "cell_type": "code",
   "execution_count": 3,
   "id": "f447325c",
   "metadata": {},
   "outputs": [],
   "source": [
    "C_X_encoder = OneHotEncoder(categories='auto', drop=None, sparse=False)\n",
    "C_y_encoder = LabelEncoder()\n",
    "\n",
    "C_X_train = C_X_encoder.fit_transform(C_X_train)\n",
    "C_y_train = C_y_encoder.fit_transform(C_y_train)\n",
    "\n",
    "C_X_test = C_X_encoder.transform(C_X_test)\n",
    "C_y_test = C_y_encoder.transform(C_y_test)"
   ]
  },
  {
   "cell_type": "markdown",
   "id": "aa869ce0",
   "metadata": {},
   "source": [
    "Следующая функция будет использована для оценки точности классификаторов:"
   ]
  },
  {
   "cell_type": "code",
   "execution_count": 4,
   "id": "56fc61ab",
   "metadata": {},
   "outputs": [],
   "source": [
    "def test_classifier(classifer, X_train, X_test, y_train, y_test):\n",
    "    classifer.fit(X_train, y_train)\n",
    "    y_predict = classifer.predict(X_test)\n",
    "    print(f\"Accuracy is {(y_predict == y_test).mean()}\")\n",
    "    ConfusionMatrixDisplay(confusion_matrix(y_test, y_predict)).plot()"
   ]
  },
  {
   "cell_type": "markdown",
   "id": "4d4557a0",
   "metadata": {},
   "source": [
    "## Логистическая регрессия"
   ]
  },
  {
   "cell_type": "markdown",
   "id": "8b4a7e88",
   "metadata": {},
   "source": [
    "Логистическая регрессия может быть (если задача классификации) \n",
    "и бинарной, и многоклассовой, но здесь внимание отводится на\n",
    "задачу бинарной классификации."
   ]
  },
  {
   "cell_type": "markdown",
   "id": "5cc36ef7",
   "metadata": {},
   "source": [
    "В центре логистической регрессии лежит функция гипотезы:\n",
    "\n",
    "$$\n",
    "h(z) = \\frac{1}{1 + \\exp(-z)}\n",
    "$$\n",
    "\n",
    "где $z$ - вектор взвешенных особенностей: $z = \\theta x$\n",
    "\n",
    "Если ошибку рассматривать как отклонение от реального класса для множества\n",
    "особенностей, то формульно это задать как квадрат отклонения:\n",
    "\n",
    "$$\n",
    "J(z, y) = \\frac{1}{2m}\\sum_{i = 1}^{m}(h(z_i) - y_i)^2\n",
    "$$\n",
    "\n",
    "где $m$ - размер образца (кол-во пар особенности - класс),\n",
    "$y_i$ - корректная классификация $i$-го образца.\n",
    "\n",
    "Для этой функции нужно найти argmin, но в таком формате этой будет трудно,\n",
    "так как итоговая функция - невыпуклая, с локальными минимумами. Для\n",
    "логистической регрессии используется особая форма функции ошибок:\n",
    "\n",
    "$$\n",
    "J(z, y) = -\\frac{1}{m} \\sum_{i = 1}^{m} \\left[y_i \\log(h(z_i)) + (1 - y_i) \\log(1 - h(z_i))\\right]\n",
    "$$\n",
    "\n",
    "Функция сходится к минимуму методом градиентного спуска по формуле:\n",
    "\n",
    "$$\n",
    "\\theta_j = \\theta_j - \\alpha \\frac{ \\partial J }{ \\partial \\theta_j }\n",
    "$$\n",
    "\n",
    "где $\\theta_j$ - вес соответствующий особенности $x_j$, $\\alpha$ - скорость обучения \n",
    "(задается пользователем, обычно $\\alpha = 0.01$).\n",
    "\n",
    "После подсчета производной получается формула:\n",
    "\n",
    "$$\n",
    "\\frac{ \\partial J }{ \\partial \\theta_j } = \\frac{1}{m} \\sum_{i = 1}^{m} (y_i - h(z_i)) x_j\n",
    "$$"
   ]
  },
  {
   "cell_type": "markdown",
   "id": "968bedca",
   "metadata": {},
   "source": [
    "### Собственная реализация"
   ]
  },
  {
   "cell_type": "markdown",
   "id": "f51a90c9",
   "metadata": {},
   "source": [
    "В `classfier.logistic_regression` в классе `LogisticRegression` содержится реализация \n",
    "описанного выше алгоритма:"
   ]
  },
  {
   "cell_type": "code",
   "execution_count": 5,
   "id": "ce1f3786",
   "metadata": {},
   "outputs": [
    {
     "name": "stdout",
     "output_type": "stream",
     "text": [
      "Accuracy is 0.725\n",
      "CPU times: user 3.13 s, sys: 19.8 ms, total: 3.15 s\n",
      "Wall time: 3.15 s\n"
     ]
    },
    {
     "data": {
      "image/png": "[encoded data removed]",
      "text/plain": [
       "<Figure size 432x288 with 2 Axes>"
      ]
     },
     "metadata": {
      "needs_background": "light"
     },
     "output_type": "display_data"
    }
   ],
   "source": [
    "custom_lr = LogisticRegression(0.01, 100000)\n",
    "custom_lr.fit = custom_lr.train\n",
    "%time test_classifier(custom_lr, W_X_train, W_X_test, W_y_train, W_y_test)"
   ]
  },
  {
   "cell_type": "markdown",
   "id": "731d9c8e",
   "metadata": {},
   "source": [
    "Точность логистического регрессора: $72.5\\%$, что выше собственного алгоритма на $1.9\\%$, \n",
    "причем изменение скорости почти не заметно. Такой алгортм более подходящий, особенно \n",
    "учитывая, что он заточен на бинарную классификацию."
   ]
  },
  {
   "cell_type": "markdown",
   "id": "f4b68e22",
   "metadata": {},
   "source": [
    "### Реализация `sklearn`"
   ]
  },
  {
   "cell_type": "markdown",
   "id": "01f730c8",
   "metadata": {},
   "source": [
    "Стандартно в регрессии от `sklearn` имеется дополнительная регуляризация для\n",
    "предотвращения переобучения, но, т.к. в собственной реализации её нет, сравнения\n",
    "ради она отключена:"
   ]
  },
  {
   "cell_type": "code",
   "execution_count": 6,
   "id": "607f59d7",
   "metadata": {},
   "outputs": [
    {
     "name": "stdout",
     "output_type": "stream",
     "text": [
      "Accuracy is 0.7270833333333333\n",
      "CPU times: user 63 ms, sys: 0 ns, total: 63 ms\n",
      "Wall time: 62.1 ms\n"
     ]
    },
    {
     "data": {
      "image/png": "[encoded data removed]",
      "text/plain": [
       "<Figure size 432x288 with 2 Axes>"
      ]
     },
     "metadata": {
      "needs_background": "light"
     },
     "output_type": "display_data"
    }
   ],
   "source": [
    "ski_lr = linear_model.LogisticRegression('none')\n",
    "%time test_classifier(ski_lr, W_X_train, W_X_test, W_y_train, W_y_test)"
   ]
  },
  {
   "cell_type": "markdown",
   "id": "b7c16b2d",
   "metadata": {},
   "source": [
    "Точность больше на $0.2\\%$, но это не учитывая количество итераций: в то время, как такая точность была \n",
    "достигнута за 100000 в собственной реализации, в `sklearn` она была достигнута (судя по документации)\n",
    "за 100 итераций, а сам регрессор был в сотни раз быстрее."
   ]
  },
  {
   "cell_type": "markdown",
   "id": "1d0f9c66",
   "metadata": {},
   "source": [
    "## Дерево решений"
   ]
  },
  {
   "cell_type": "markdown",
   "id": "c6f69353",
   "metadata": {},
   "source": [
    "Построенное вручную дерево решений просто представляет собой дерево, \n",
    "в каждой вершине кроме листьев в которой задается вопрос по какому-либо свойству\n",
    "и определяется следующая вершина в зависимости от ответа. В листьях же содержится\n",
    "возможная классификация на основе свойств.\n",
    "\n",
    "При построении дерева решений используется функция определения количества полученной\n",
    "информации, но перед её введением следует ввести формулу оценки \"загрязненности\" вершины.\n",
    "\n",
    "Вершина считается загрязненной, если (считая ее листом) в ней в качестве ответа содержится\n",
    "много разных классов, т.е. пройдясь по дереву классификации и дойдя до этой вершины,\n",
    "особенности могут быть классифицированы не одним, а двумя, тремя и более классами. Тогда\n",
    "вершина считается загрязненной (\"impure\").\n",
    "\n",
    "Формульно это можно оценить с помощью коэффициента Джини:\n",
    "\n",
    "$$\n",
    "G = 1 - \\sum_{i=1}^{n}p_i^2\n",
    "$$\n",
    "\n",
    "где $p_i$ - вероятность класса $i$ в вершине. \n",
    "\n",
    "Например, если вершина состоит целиком из одного класса, то его вероятность $p_i = 1$, а коэффициент Джини соответственно равен $G = 1 - 1^2 = 0$ (вершина чистая). \n",
    "Если же в вершине 2 класса `a`, 1 класс `b` и 2 класса `c`, то их вероятности \n",
    "соответственно $p_a = \\frac{2}{5}, p_b = \\frac{1}{5}, p_c = \\frac{2}{5}$, \n",
    "а коэффициент Джини \n",
    "$G = 1 - \\left(\\left(\\frac{2}{5}\\right)^2 + \\left(\\frac{1}{5}\\right)^2 + \\left(\\frac{2}{5}\\right)^2\\right) = 0.64$, соответственно вершина грязная.\n",
    "\n",
    "Тогда коэффициент получения информации можно определить как разницу между загрязнением\n",
    "родительской вершины и итоговым загрязнением детей, причем они умножены на коэффициенты,\n",
    "равные проценту отшедших в них классов. Подробнее на примере: пусть коэффициент Джини\n",
    "у родителя 0.65 и в нем 5 классов. После деления, например в левого ребенка отошло 2\n",
    "класса, а его коэффициент 0.3, и в правого ребенка отошло 3 оставшихся класса, а его \n",
    "коэффициент 0.25. Тогда полученная информация:\n",
    "\n",
    "$$\n",
    "I = 0.65 - \\left(\\frac{2}{5}0.3 + \\frac{3}{5}0.25\\right) = 0.38\n",
    "$$\n",
    "\n",
    "Для нахождения лучшего деления необходимо делить образцы \n",
    "относительно каждого значения каждой особенности (т.е. на те, которые удовлетворяют\n",
    "значению, и те, которые не удовлетворяют), и создать детские вершины с этими\n",
    "разбиениями. Лучшее деление будет иметь максимальную полученную информацию $I$.\n",
    "\n",
    "Существуют разные алгоритмы деления, но здесь был описан алгоритм `CART` \n",
    "(Classification And Regression Tree)."
   ]
  },
  {
   "cell_type": "markdown",
   "id": "01e5e455",
   "metadata": {},
   "source": [
    "### Собственная реализация"
   ]
  },
  {
   "cell_type": "markdown",
   "id": "4980226b",
   "metadata": {},
   "source": [
    "Приведенный выше алгоритм в `classifier.trees` в `CART`. Проверка дерева на датасете с вином:"
   ]
  },
  {
   "cell_type": "code",
   "execution_count": 7,
   "id": "fffc6837",
   "metadata": {},
   "outputs": [
    {
     "name": "stdout",
     "output_type": "stream",
     "text": [
      "Accuracy is 0.75\n",
      "CPU times: user 871 ms, sys: 3.17 ms, total: 874 ms\n",
      "Wall time: 876 ms\n"
     ]
    },
    {
     "data": {
      "image/png": "[encoded data removed]",
      "text/plain": [
       "<Figure size 432x288 with 2 Axes>"
      ]
     },
     "metadata": {
      "needs_background": "light"
     },
     "output_type": "display_data"
    }
   ],
   "source": [
    "custom_tree = CART()\n",
    "custom_tree.fit = custom_tree.train\n",
    "%time test_classifier(custom_tree, W_X_train, W_X_test, W_y_train, W_y_test)"
   ]
  },
  {
   "cell_type": "markdown",
   "id": "f4d4fa55",
   "metadata": {},
   "source": [
    "По скорости деревья оказались значительно быстрее логистического регрессора и при этом точность больше.\n",
    "Кроме того, класс `1` был идентифицирован значительно лучше, чем у регрессора."
   ]
  },
  {
   "cell_type": "markdown",
   "id": "4ba087b6",
   "metadata": {},
   "source": [
    "Для датасета с машинами:"
   ]
  },
  {
   "cell_type": "code",
   "execution_count": 8,
   "id": "11cc6ca6",
   "metadata": {},
   "outputs": [
    {
     "name": "stdout",
     "output_type": "stream",
     "text": [
      "Accuracy is 0.9865125240847784\n",
      "CPU times: user 138 ms, sys: 0 ns, total: 138 ms\n",
      "Wall time: 137 ms\n"
     ]
    },
    {
     "data": {
      "image/png": "[encoded data removed]",
      "text/plain": [
       "<Figure size 432x288 with 2 Axes>"
      ]
     },
     "metadata": {
      "needs_background": "light"
     },
     "output_type": "display_data"
    }
   ],
   "source": [
    "custom_tree = CART()\n",
    "custom_tree.fit = custom_tree.train\n",
    "%time test_classifier(custom_tree, C_X_train, C_X_test, C_y_train, C_y_test)"
   ]
  },
  {
   "cell_type": "markdown",
   "id": "c695620a",
   "metadata": {},
   "source": [
    "Матрица ошибок показывает незначительные неточности."
   ]
  },
  {
   "cell_type": "markdown",
   "id": "91a58fa6",
   "metadata": {},
   "source": [
    "### Реализация `sklearn`"
   ]
  },
  {
   "cell_type": "markdown",
   "id": "08883c3b",
   "metadata": {},
   "source": [
    "Для вина:"
   ]
  },
  {
   "cell_type": "code",
   "execution_count": 9,
   "id": "6280b4a6",
   "metadata": {},
   "outputs": [
    {
     "name": "stdout",
     "output_type": "stream",
     "text": [
      "Accuracy is 0.74375\n",
      "CPU times: user 38.6 ms, sys: 0 ns, total: 38.6 ms\n",
      "Wall time: 38.1 ms\n"
     ]
    },
    {
     "data": {
      "image/png": "[encoded data removed]",
      "text/plain": [
       "<Figure size 432x288 with 2 Axes>"
      ]
     },
     "metadata": {
      "needs_background": "light"
     },
     "output_type": "display_data"
    }
   ],
   "source": [
    "ski_tree = tree.DecisionTreeClassifier()\n",
    "%time test_classifier(ski_tree, W_X_train, W_X_test, W_y_train, W_y_test)"
   ]
  },
  {
   "cell_type": "markdown",
   "id": "9ba0296b",
   "metadata": {},
   "source": [
    "Точность примерно одинакова, но скорость значительно выше."
   ]
  },
  {
   "cell_type": "code",
   "execution_count": 10,
   "id": "7338344c",
   "metadata": {},
   "outputs": [
    {
     "name": "stdout",
     "output_type": "stream",
     "text": [
      "Accuracy is 0.976878612716763\n",
      "CPU times: user 44.5 ms, sys: 0 ns, total: 44.5 ms\n",
      "Wall time: 43.7 ms\n"
     ]
    },
    {
     "data": {
      "image/png": "[encoded data removed]",
      "text/plain": [
       "<Figure size 432x288 with 2 Axes>"
      ]
     },
     "metadata": {
      "needs_background": "light"
     },
     "output_type": "display_data"
    }
   ],
   "source": [
    "ski_tree = tree.DecisionTreeClassifier()\n",
    "%time test_classifier(ski_tree, C_X_train, C_X_test, C_y_train, C_y_test)"
   ]
  },
  {
   "cell_type": "markdown",
   "id": "eeece682",
   "metadata": {},
   "source": [
    "## Random Forest"
   ]
  },
  {
   "cell_type": "markdown",
   "id": "674c280f",
   "metadata": {},
   "source": [
    "Если не ограничивать глубину деревьев решений, то они будут стремиться максимально \n",
    "делить тестовые данные, в плоть до максимально чистых листьев. Random Forest стремится \n",
    "решить эту проблему: вместо одного дерева будет создаваться лес, причем эти деревья\n",
    "будет тренироваться случайно - из входных пар `(Особенности, класс)` \n",
    "$(X_1, y_1), (X_2, y_2), ..., (X_n, y_n)$ ($n$ пар) для каждого дерева будет \n",
    "создаваться независимая случайная выборка с заменами (пары могут повторяться многократно)\n",
    "и дерево будет тренироваться на ней.\n",
    "\n",
    "При обучении каждое дерево будет возвращать свой вариант классификации, после чего\n",
    "результатом будет наиболее частый класс (или среднее значение в случае регрессии)."
   ]
  },
  {
   "cell_type": "markdown",
   "id": "cde4f371",
   "metadata": {},
   "source": [
    "### Собственная реализация"
   ]
  },
  {
   "cell_type": "markdown",
   "id": "33530895",
   "metadata": {},
   "source": [
    "Первый параметр - количество деревьев в лесу."
   ]
  },
  {
   "cell_type": "code",
   "execution_count": 11,
   "id": "8b31d8af",
   "metadata": {},
   "outputs": [
    {
     "name": "stdout",
     "output_type": "stream",
     "text": [
      "Accuracy is 0.775\n",
      "CPU times: user 6.15 s, sys: 3.64 ms, total: 6.16 s\n",
      "Wall time: 6.25 s\n"
     ]
    },
    {
     "data": {
      "image/png": "[encoded data removed]",
      "text/plain": [
       "<Figure size 432x288 with 2 Axes>"
      ]
     },
     "metadata": {
      "needs_background": "light"
     },
     "output_type": "display_data"
    }
   ],
   "source": [
    "custom_forest = RandomForest(10)\n",
    "custom_forest.fit = custom_forest.train\n",
    "%time test_classifier(custom_forest, W_X_train, W_X_test, W_y_train, W_y_test)"
   ]
  },
  {
   "cell_type": "code",
   "execution_count": 12,
   "id": "929a7a99",
   "metadata": {},
   "outputs": [
    {
     "name": "stdout",
     "output_type": "stream",
     "text": [
      "Accuracy is 0.9633911368015414\n",
      "CPU times: user 935 ms, sys: 221 µs, total: 936 ms\n",
      "Wall time: 960 ms\n"
     ]
    },
    {
     "data": {
      "image/png": "[encoded data removed]",
      "text/plain": [
       "<Figure size 432x288 with 2 Axes>"
      ]
     },
     "metadata": {
      "needs_background": "light"
     },
     "output_type": "display_data"
    }
   ],
   "source": [
    "custom_forest = RandomForest(10)\n",
    "custom_forest.fit = custom_forest.train\n",
    "%time test_classifier(custom_forest, C_X_train, C_X_test, C_y_train, C_y_test)"
   ]
  },
  {
   "cell_type": "markdown",
   "id": "0d244ae8",
   "metadata": {},
   "source": [
    "Хотя точности примерно одинаковы, скорость значительно упала. Может разница между деревом и лесом\n",
    "будет заметнее на больших объемах тренировочных данных."
   ]
  },
  {
   "cell_type": "markdown",
   "id": "717cf8cd",
   "metadata": {},
   "source": [
    "### Реализация `sklearn`"
   ]
  },
  {
   "cell_type": "markdown",
   "id": "51c5c37c",
   "metadata": {},
   "source": [
    "Стандартно, количество деревьев равно 100, но для сравнения они настроены на 10 деревьев:"
   ]
  },
  {
   "cell_type": "code",
   "execution_count": 15,
   "id": "259f3740",
   "metadata": {},
   "outputs": [
    {
     "name": "stdout",
     "output_type": "stream",
     "text": [
      "Accuracy is 0.8104166666666667\n",
      "CPU times: user 70.2 ms, sys: 29 µs, total: 70.2 ms\n",
      "Wall time: 68.2 ms\n"
     ]
    },
    {
     "data": {
      "image/png": "[encoded data removed]",
      "text/plain": [
       "<Figure size 432x288 with 2 Axes>"
      ]
     },
     "metadata": {
      "needs_background": "light"
     },
     "output_type": "display_data"
    }
   ],
   "source": [
    "ski_forest = ensemble.RandomForestClassifier(10)\n",
    "%time test_classifier(ski_forest, W_X_train, W_X_test, W_y_train, W_y_test)"
   ]
  },
  {
   "cell_type": "code",
   "execution_count": 16,
   "id": "bc47ed1b",
   "metadata": {},
   "outputs": [
    {
     "name": "stdout",
     "output_type": "stream",
     "text": [
      "Accuracy is 0.9364161849710982\n",
      "CPU times: user 68.4 ms, sys: 6.53 ms, total: 75 ms\n",
      "Wall time: 72.4 ms\n"
     ]
    },
    {
     "data": {
      "image/png": "[encoded data removed]",
      "text/plain": [
       "<Figure size 432x288 with 2 Axes>"
      ]
     },
     "metadata": {
      "needs_background": "light"
     },
     "output_type": "display_data"
    }
   ],
   "source": [
    "ski_forest = ensemble.RandomForestClassifier(10)\n",
    "%time test_classifier(ski_forest, C_X_train, C_X_test, C_y_train, C_y_test)"
   ]
  },
  {
   "cell_type": "markdown",
   "id": "33b26be5",
   "metadata": {},
   "source": [
    "Точность отличается то выше, то ниже, возможно из-за того, как случайно подбираются данные в самой реализации."
   ]
  }
 ],
 "metadata": {
  "kernelspec": {
   "display_name": "Python 3",
   "language": "python",
   "name": "python3"
  },
  "language_info": {
   "codemirror_mode": {
    "name": "ipython",
    "version": 3
   },
   "file_extension": ".py",
   "mimetype": "text/x-python",
   "name": "python",
   "nbconvert_exporter": "python",
   "pygments_lexer": "ipython3",
   "version": "3.9.5"
  }
 },
 "nbformat": 4,
 "nbformat_minor": 5
}
